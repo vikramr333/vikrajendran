{
 "cells": [
  {
   "cell_type": "code",
   "execution_count": 1,
   "id": "27686b99",
   "metadata": {},
   "outputs": [],
   "source": [
    "import pandas as pd"
   ]
  },
  {
   "cell_type": "code",
   "execution_count": 2,
   "id": "8e6b18e4",
   "metadata": {},
   "outputs": [],
   "source": [
    "df = pd.read_csv('sb_30-05_slim_slim-1.csv')"
   ]
  },
  {
   "cell_type": "code",
   "execution_count": 3,
   "id": "b08a02d0",
   "metadata": {},
   "outputs": [
    {
     "name": "stdout",
     "output_type": "stream",
     "text": [
      "sb_labs shape: (77617,), y shape: (77617,)\n"
     ]
    }
   ],
   "source": [
    "sb_labs = df['shot_statsbomb_xg'].values\n",
    "y = df['goal'].values\n",
    "\n",
    "print(f\"sb_labs shape: {sb_labs.shape}, y shape: {y.shape}\")"
   ]
  },
  {
   "cell_type": "code",
   "execution_count": 4,
   "id": "e02f925b",
   "metadata": {},
   "outputs": [],
   "source": [
    "df['header'] = df['shot_body_part'] == 'Head'\n",
    "df['header'] = df['header'].astype(int)\n",
    "df['shot_aerial_won'] = df['shot_aerial_won'].astype(int)\n",
    "df['shot_first_time'] = df['shot_first_time'].astype(int)\n",
    "df['shot_one_on_one'] = df['shot_one_on_one'].astype(int)\n",
    "df['under_pressure'] = df['under_pressure'].astype(int)"
   ]
  },
  {
   "cell_type": "code",
   "execution_count": 5,
   "id": "75f94a73",
   "metadata": {},
   "outputs": [],
   "source": [
    "df.drop(['shot_body_part', 'shot_technique', 'shot_outcome', 'goal', 'shot_statsbomb_xg'], axis = 1, inplace = True)"
   ]
  },
  {
   "cell_type": "code",
   "execution_count": 6,
   "id": "fb03bcdd",
   "metadata": {},
   "outputs": [],
   "source": [
    "df_1h = pd.get_dummies(df, columns = ['play_pattern', 'shot_type', 'prev_type'])"
   ]
  },
  {
   "cell_type": "code",
   "execution_count": 7,
   "id": "717167eb",
   "metadata": {},
   "outputs": [],
   "source": [
    "useful_cols = [0,4,1,3,2,15,30,18,29,17,20,9,28,5,7,27,25,24,26,8,21,13,12,6,23,10,16,11,\n",
    "              -1,14,19]\n",
    "\n",
    "use_cols = [col + 1 for col in useful_cols]\n",
    "#use_cols"
   ]
  },
  {
   "cell_type": "code",
   "execution_count": 8,
   "id": "9a1a4120",
   "metadata": {},
   "outputs": [],
   "source": [
    "df_slim = df_1h.copy()\n",
    "df_slim = df_slim.iloc[:, use_cols]"
   ]
  },
  {
   "cell_type": "code",
   "execution_count": 9,
   "id": "8e98dea2",
   "metadata": {},
   "outputs": [
    {
     "name": "stdout",
     "output_type": "stream",
     "text": [
      "['x', 'y', 'goalkeeper_dx', 'goalkeeper_dy', 'opposition_1_dx', 'opposition_1_dy', 'opposition_2_dx', 'opposition_2_dy', 'opposition_3_dx', 'opposition_3_dy', 'opposition_4_dx', 'opposition_4_dy', 'teammate_1_dx', 'teammate_1_dy', 'teammate_2_dx', 'teammate_2_dy', 'goalkeeper_x', 'goalkeeper_y', 'opposition_1_x', 'opposition_1_y', 'opposition_2_x', 'opposition_2_y', 'opposition_3_x', 'opposition_3_y', 'opposition_4_x', 'opposition_4_y', 'teammate_1_x', 'teammate_1_y', 'teammate_2_x', 'teammate_2_y', 'shot_aerial_won', 'shot_first_time', 'shot_one_on_one', 'under_pressure', 'prev_x', 'prev_y', 'header', 'play_pattern_From Corner', 'play_pattern_From Counter', 'play_pattern_From Free Kick', 'play_pattern_From Goal Kick', 'play_pattern_From Keeper', 'play_pattern_From Kick Off', 'play_pattern_From Throw In', 'play_pattern_Other', 'play_pattern_Regular Play', 'shot_type_Corner', 'shot_type_Free Kick', 'shot_type_Open Play', 'prev_type_50/50', 'prev_type_Ball Recovery', 'prev_type_Block', 'prev_type_Carry', 'prev_type_Clearance', 'prev_type_Dispossessed', 'prev_type_Dribble', 'prev_type_Duel', 'prev_type_Foul Won', 'prev_type_Interception', 'prev_type_Miscontrol', 'prev_type_Pass', 'prev_type_Pressure', 'prev_type_Shot']\n"
     ]
    }
   ],
   "source": [
    "print(list(df_1h.columns))"
   ]
  },
  {
   "cell_type": "code",
   "execution_count": 10,
   "id": "3f75c7cb",
   "metadata": {},
   "outputs": [
    {
     "data": {
      "text/html": [
       "<div>\n",
       "<style scoped>\n",
       "    .dataframe tbody tr th:only-of-type {\n",
       "        vertical-align: middle;\n",
       "    }\n",
       "\n",
       "    .dataframe tbody tr th {\n",
       "        vertical-align: top;\n",
       "    }\n",
       "\n",
       "    .dataframe thead th {\n",
       "        text-align: right;\n",
       "    }\n",
       "</style>\n",
       "<table border=\"1\" class=\"dataframe\">\n",
       "  <thead>\n",
       "    <tr style=\"text-align: right;\">\n",
       "      <th></th>\n",
       "      <th>opposition_1_x</th>\n",
       "      <th>opposition_1_y</th>\n",
       "      <th>opposition_2_x</th>\n",
       "      <th>opposition_2_y</th>\n",
       "      <th>opposition_3_x</th>\n",
       "      <th>opposition_3_y</th>\n",
       "      <th>opposition_4_x</th>\n",
       "      <th>opposition_4_y</th>\n",
       "    </tr>\n",
       "  </thead>\n",
       "  <tbody>\n",
       "    <tr>\n",
       "      <th>0</th>\n",
       "      <td>101.9</td>\n",
       "      <td>35.1</td>\n",
       "      <td>105.4</td>\n",
       "      <td>31.5</td>\n",
       "      <td>107.2</td>\n",
       "      <td>38.1</td>\n",
       "      <td>105.5</td>\n",
       "      <td>28.3</td>\n",
       "    </tr>\n",
       "    <tr>\n",
       "      <th>1</th>\n",
       "      <td>114.3</td>\n",
       "      <td>34.6</td>\n",
       "      <td>113.0</td>\n",
       "      <td>37.1</td>\n",
       "      <td>114.6</td>\n",
       "      <td>39.1</td>\n",
       "      <td>109.3</td>\n",
       "      <td>48.1</td>\n",
       "    </tr>\n",
       "    <tr>\n",
       "      <th>2</th>\n",
       "      <td>108.9</td>\n",
       "      <td>59.7</td>\n",
       "      <td>109.1</td>\n",
       "      <td>50.8</td>\n",
       "      <td>108.9</td>\n",
       "      <td>46.2</td>\n",
       "      <td>113.3</td>\n",
       "      <td>46.9</td>\n",
       "    </tr>\n",
       "    <tr>\n",
       "      <th>3</th>\n",
       "      <td>114.1</td>\n",
       "      <td>46.4</td>\n",
       "      <td>113.2</td>\n",
       "      <td>46.6</td>\n",
       "      <td>113.0</td>\n",
       "      <td>45.1</td>\n",
       "      <td>113.4</td>\n",
       "      <td>41.2</td>\n",
       "    </tr>\n",
       "    <tr>\n",
       "      <th>4</th>\n",
       "      <td>91.9</td>\n",
       "      <td>43.8</td>\n",
       "      <td>92.3</td>\n",
       "      <td>40.6</td>\n",
       "      <td>91.1</td>\n",
       "      <td>51.5</td>\n",
       "      <td>102.0</td>\n",
       "      <td>41.4</td>\n",
       "    </tr>\n",
       "  </tbody>\n",
       "</table>\n",
       "</div>"
      ],
      "text/plain": [
       "   opposition_1_x  opposition_1_y  opposition_2_x  opposition_2_y  \\\n",
       "0           101.9            35.1           105.4            31.5   \n",
       "1           114.3            34.6           113.0            37.1   \n",
       "2           108.9            59.7           109.1            50.8   \n",
       "3           114.1            46.4           113.2            46.6   \n",
       "4            91.9            43.8            92.3            40.6   \n",
       "\n",
       "   opposition_3_x  opposition_3_y  opposition_4_x  opposition_4_y  \n",
       "0           107.2            38.1           105.5            28.3  \n",
       "1           114.6            39.1           109.3            48.1  \n",
       "2           108.9            46.2           113.3            46.9  \n",
       "3           113.0            45.1           113.4            41.2  \n",
       "4            91.1            51.5           102.0            41.4  "
      ]
     },
     "execution_count": 10,
     "metadata": {},
     "output_type": "execute_result"
    }
   ],
   "source": [
    "df_opp = df_1h.copy()\n",
    "\n",
    "df_opp = df_opp[['opposition_1_x', 'opposition_1_y', 'opposition_2_x', 'opposition_2_y', 'opposition_3_x', 'opposition_3_y', 'opposition_4_x', 'opposition_4_y',]]\n",
    "\n",
    "df_opp.head()"
   ]
  },
  {
   "cell_type": "code",
   "execution_count": 11,
   "id": "c517f0d9",
   "metadata": {},
   "outputs": [
    {
     "ename": "KeyboardInterrupt",
     "evalue": "",
     "output_type": "error",
     "traceback": [
      "\u001b[1;31m---------------------------------------------------------------------------\u001b[0m",
      "\u001b[1;31mKeyboardInterrupt\u001b[0m                         Traceback (most recent call last)",
      "Input \u001b[1;32mIn [11]\u001b[0m, in \u001b[0;36m<cell line: 29>\u001b[1;34m()\u001b[0m\n\u001b[0;32m     26\u001b[0m prefixes \u001b[38;5;241m=\u001b[39m [\u001b[38;5;124m'\u001b[39m\u001b[38;5;124mopposition\u001b[39m\u001b[38;5;124m'\u001b[39m, \u001b[38;5;124m'\u001b[39m\u001b[38;5;124mopposition_d\u001b[39m\u001b[38;5;124m'\u001b[39m, \u001b[38;5;124m'\u001b[39m\u001b[38;5;124mteammate\u001b[39m\u001b[38;5;124m'\u001b[39m, \u001b[38;5;124m'\u001b[39m\u001b[38;5;124mteammate_d\u001b[39m\u001b[38;5;124m'\u001b[39m]\n\u001b[0;32m     27\u001b[0m counts \u001b[38;5;241m=\u001b[39m [\u001b[38;5;241m4\u001b[39m, \u001b[38;5;241m4\u001b[39m, \u001b[38;5;241m2\u001b[39m, \u001b[38;5;241m2\u001b[39m]\n\u001b[1;32m---> 29\u001b[0m shuffled_df \u001b[38;5;241m=\u001b[39m \u001b[43mdf_1h\u001b[49m\u001b[38;5;241;43m.\u001b[39;49m\u001b[43mapply\u001b[49m\u001b[43m(\u001b[49m\u001b[43mshuffle_positions\u001b[49m\u001b[43m,\u001b[49m\u001b[43m \u001b[49m\u001b[43maxis\u001b[49m\u001b[38;5;241;43m=\u001b[39;49m\u001b[38;5;241;43m1\u001b[39;49m\u001b[43m,\u001b[49m\u001b[43m \u001b[49m\u001b[43mprefixes\u001b[49m\u001b[38;5;241;43m=\u001b[39;49m\u001b[43mprefixes\u001b[49m\u001b[43m,\u001b[49m\u001b[43m \u001b[49m\u001b[43mcounts\u001b[49m\u001b[38;5;241;43m=\u001b[39;49m\u001b[43mcounts\u001b[49m\u001b[43m)\u001b[49m\n\u001b[0;32m     31\u001b[0m shuffled_df\u001b[38;5;241m.\u001b[39mhead()\n",
      "File \u001b[1;32m~\\anaconda3\\lib\\site-packages\\pandas\\core\\frame.py:8839\u001b[0m, in \u001b[0;36mDataFrame.apply\u001b[1;34m(self, func, axis, raw, result_type, args, **kwargs)\u001b[0m\n\u001b[0;32m   8828\u001b[0m \u001b[38;5;28;01mfrom\u001b[39;00m \u001b[38;5;21;01mpandas\u001b[39;00m\u001b[38;5;21;01m.\u001b[39;00m\u001b[38;5;21;01mcore\u001b[39;00m\u001b[38;5;21;01m.\u001b[39;00m\u001b[38;5;21;01mapply\u001b[39;00m \u001b[38;5;28;01mimport\u001b[39;00m frame_apply\n\u001b[0;32m   8830\u001b[0m op \u001b[38;5;241m=\u001b[39m frame_apply(\n\u001b[0;32m   8831\u001b[0m     \u001b[38;5;28mself\u001b[39m,\n\u001b[0;32m   8832\u001b[0m     func\u001b[38;5;241m=\u001b[39mfunc,\n\u001b[1;32m   (...)\u001b[0m\n\u001b[0;32m   8837\u001b[0m     kwargs\u001b[38;5;241m=\u001b[39mkwargs,\n\u001b[0;32m   8838\u001b[0m )\n\u001b[1;32m-> 8839\u001b[0m \u001b[38;5;28;01mreturn\u001b[39;00m \u001b[43mop\u001b[49m\u001b[38;5;241;43m.\u001b[39;49m\u001b[43mapply\u001b[49m\u001b[43m(\u001b[49m\u001b[43m)\u001b[49m\u001b[38;5;241m.\u001b[39m__finalize__(\u001b[38;5;28mself\u001b[39m, method\u001b[38;5;241m=\u001b[39m\u001b[38;5;124m\"\u001b[39m\u001b[38;5;124mapply\u001b[39m\u001b[38;5;124m\"\u001b[39m)\n",
      "File \u001b[1;32m~\\anaconda3\\lib\\site-packages\\pandas\\core\\apply.py:727\u001b[0m, in \u001b[0;36mFrameApply.apply\u001b[1;34m(self)\u001b[0m\n\u001b[0;32m    724\u001b[0m \u001b[38;5;28;01melif\u001b[39;00m \u001b[38;5;28mself\u001b[39m\u001b[38;5;241m.\u001b[39mraw:\n\u001b[0;32m    725\u001b[0m     \u001b[38;5;28;01mreturn\u001b[39;00m \u001b[38;5;28mself\u001b[39m\u001b[38;5;241m.\u001b[39mapply_raw()\n\u001b[1;32m--> 727\u001b[0m \u001b[38;5;28;01mreturn\u001b[39;00m \u001b[38;5;28;43mself\u001b[39;49m\u001b[38;5;241;43m.\u001b[39;49m\u001b[43mapply_standard\u001b[49m\u001b[43m(\u001b[49m\u001b[43m)\u001b[49m\n",
      "File \u001b[1;32m~\\anaconda3\\lib\\site-packages\\pandas\\core\\apply.py:851\u001b[0m, in \u001b[0;36mFrameApply.apply_standard\u001b[1;34m(self)\u001b[0m\n\u001b[0;32m    850\u001b[0m \u001b[38;5;28;01mdef\u001b[39;00m \u001b[38;5;21mapply_standard\u001b[39m(\u001b[38;5;28mself\u001b[39m):\n\u001b[1;32m--> 851\u001b[0m     results, res_index \u001b[38;5;241m=\u001b[39m \u001b[38;5;28;43mself\u001b[39;49m\u001b[38;5;241;43m.\u001b[39;49m\u001b[43mapply_series_generator\u001b[49m\u001b[43m(\u001b[49m\u001b[43m)\u001b[49m\n\u001b[0;32m    853\u001b[0m     \u001b[38;5;66;03m# wrap results\u001b[39;00m\n\u001b[0;32m    854\u001b[0m     \u001b[38;5;28;01mreturn\u001b[39;00m \u001b[38;5;28mself\u001b[39m\u001b[38;5;241m.\u001b[39mwrap_results(results, res_index)\n",
      "File \u001b[1;32m~\\anaconda3\\lib\\site-packages\\pandas\\core\\apply.py:867\u001b[0m, in \u001b[0;36mFrameApply.apply_series_generator\u001b[1;34m(self)\u001b[0m\n\u001b[0;32m    864\u001b[0m \u001b[38;5;28;01mwith\u001b[39;00m option_context(\u001b[38;5;124m\"\u001b[39m\u001b[38;5;124mmode.chained_assignment\u001b[39m\u001b[38;5;124m\"\u001b[39m, \u001b[38;5;28;01mNone\u001b[39;00m):\n\u001b[0;32m    865\u001b[0m     \u001b[38;5;28;01mfor\u001b[39;00m i, v \u001b[38;5;129;01min\u001b[39;00m \u001b[38;5;28menumerate\u001b[39m(series_gen):\n\u001b[0;32m    866\u001b[0m         \u001b[38;5;66;03m# ignore SettingWithCopy here in case the user mutates\u001b[39;00m\n\u001b[1;32m--> 867\u001b[0m         results[i] \u001b[38;5;241m=\u001b[39m \u001b[38;5;28;43mself\u001b[39;49m\u001b[38;5;241;43m.\u001b[39;49m\u001b[43mf\u001b[49m\u001b[43m(\u001b[49m\u001b[43mv\u001b[49m\u001b[43m)\u001b[49m\n\u001b[0;32m    868\u001b[0m         \u001b[38;5;28;01mif\u001b[39;00m \u001b[38;5;28misinstance\u001b[39m(results[i], ABCSeries):\n\u001b[0;32m    869\u001b[0m             \u001b[38;5;66;03m# If we have a view on v, we need to make a copy because\u001b[39;00m\n\u001b[0;32m    870\u001b[0m             \u001b[38;5;66;03m#  series_generator will swap out the underlying data\u001b[39;00m\n\u001b[0;32m    871\u001b[0m             results[i] \u001b[38;5;241m=\u001b[39m results[i]\u001b[38;5;241m.\u001b[39mcopy(deep\u001b[38;5;241m=\u001b[39m\u001b[38;5;28;01mFalse\u001b[39;00m)\n",
      "File \u001b[1;32m~\\anaconda3\\lib\\site-packages\\pandas\\core\\apply.py:138\u001b[0m, in \u001b[0;36mApply.__init__.<locals>.f\u001b[1;34m(x)\u001b[0m\n\u001b[0;32m    137\u001b[0m \u001b[38;5;28;01mdef\u001b[39;00m \u001b[38;5;21mf\u001b[39m(x):\n\u001b[1;32m--> 138\u001b[0m     \u001b[38;5;28;01mreturn\u001b[39;00m func(x, \u001b[38;5;241m*\u001b[39margs, \u001b[38;5;241m*\u001b[39m\u001b[38;5;241m*\u001b[39mkwargs)\n",
      "Input \u001b[1;32mIn [11]\u001b[0m, in \u001b[0;36mshuffle_positions\u001b[1;34m(row, prefixes, counts)\u001b[0m\n\u001b[0;32m      3\u001b[0m \u001b[38;5;28;01mdef\u001b[39;00m \u001b[38;5;21mshuffle_positions\u001b[39m(row, prefixes, counts):\n\u001b[1;32m----> 4\u001b[0m     result \u001b[38;5;241m=\u001b[39m \u001b[43mrow\u001b[49m\u001b[38;5;241;43m.\u001b[39;49m\u001b[43mto_dict\u001b[49m\u001b[43m(\u001b[49m\u001b[43m)\u001b[49m\n\u001b[0;32m      5\u001b[0m     \u001b[38;5;28;01mfor\u001b[39;00m prefix, count \u001b[38;5;129;01min\u001b[39;00m \u001b[38;5;28mzip\u001b[39m(prefixes, counts):\n\u001b[0;32m      6\u001b[0m         \u001b[38;5;28;01mif\u001b[39;00m prefix[\u001b[38;5;241m-\u001b[39m\u001b[38;5;241m1\u001b[39m] \u001b[38;5;241m==\u001b[39m \u001b[38;5;124m'\u001b[39m\u001b[38;5;124md\u001b[39m\u001b[38;5;124m'\u001b[39m:\n",
      "File \u001b[1;32m~\\anaconda3\\lib\\site-packages\\pandas\\core\\series.py:1740\u001b[0m, in \u001b[0;36mSeries.to_dict\u001b[1;34m(self, into)\u001b[0m\n\u001b[0;32m   1738\u001b[0m \u001b[38;5;66;03m# GH16122\u001b[39;00m\n\u001b[0;32m   1739\u001b[0m into_c \u001b[38;5;241m=\u001b[39m com\u001b[38;5;241m.\u001b[39mstandardize_mapping(into)\n\u001b[1;32m-> 1740\u001b[0m \u001b[38;5;28;01mreturn\u001b[39;00m into_c((k, maybe_box_native(v)) \u001b[38;5;28;01mfor\u001b[39;00m k, v \u001b[38;5;129;01min\u001b[39;00m \u001b[38;5;28;43mself\u001b[39;49m\u001b[38;5;241;43m.\u001b[39;49m\u001b[43mitems\u001b[49m\u001b[43m(\u001b[49m\u001b[43m)\u001b[49m)\n",
      "File \u001b[1;32m~\\anaconda3\\lib\\site-packages\\pandas\\core\\series.py:1689\u001b[0m, in \u001b[0;36mSeries.items\u001b[1;34m(self)\u001b[0m\n\u001b[0;32m   1662\u001b[0m \u001b[38;5;28;01mdef\u001b[39;00m \u001b[38;5;21mitems\u001b[39m(\u001b[38;5;28mself\u001b[39m) \u001b[38;5;241m-\u001b[39m\u001b[38;5;241m>\u001b[39m Iterable[\u001b[38;5;28mtuple\u001b[39m[Hashable, Any]]:\n\u001b[0;32m   1663\u001b[0m \u001b[38;5;250m    \u001b[39m\u001b[38;5;124;03m\"\"\"\u001b[39;00m\n\u001b[0;32m   1664\u001b[0m \u001b[38;5;124;03m    Lazily iterate over (index, value) tuples.\u001b[39;00m\n\u001b[0;32m   1665\u001b[0m \n\u001b[1;32m   (...)\u001b[0m\n\u001b[0;32m   1687\u001b[0m \u001b[38;5;124;03m    Index : 2, Value : C\u001b[39;00m\n\u001b[0;32m   1688\u001b[0m \u001b[38;5;124;03m    \"\"\"\u001b[39;00m\n\u001b[1;32m-> 1689\u001b[0m     \u001b[38;5;28;01mreturn\u001b[39;00m \u001b[38;5;28mzip\u001b[39m(\u001b[38;5;28;43miter\u001b[39;49m\u001b[43m(\u001b[49m\u001b[38;5;28;43mself\u001b[39;49m\u001b[38;5;241;43m.\u001b[39;49m\u001b[43mindex\u001b[49m\u001b[43m)\u001b[49m, \u001b[38;5;28miter\u001b[39m(\u001b[38;5;28mself\u001b[39m))\n",
      "File \u001b[1;32m~\\anaconda3\\lib\\site-packages\\pandas\\core\\base.py:744\u001b[0m, in \u001b[0;36mIndexOpsMixin.__iter__\u001b[1;34m(self)\u001b[0m\n\u001b[0;32m    740\u001b[0m     \u001b[38;5;28;01mreturn\u001b[39;00m \u001b[38;5;28mself\u001b[39m\u001b[38;5;241m.\u001b[39m_values\u001b[38;5;241m.\u001b[39mtolist()\n\u001b[0;32m    742\u001b[0m to_list \u001b[38;5;241m=\u001b[39m tolist\n\u001b[1;32m--> 744\u001b[0m \u001b[38;5;28;01mdef\u001b[39;00m \u001b[38;5;21m__iter__\u001b[39m(\u001b[38;5;28mself\u001b[39m):\n\u001b[0;32m    745\u001b[0m \u001b[38;5;250m    \u001b[39m\u001b[38;5;124;03m\"\"\"\u001b[39;00m\n\u001b[0;32m    746\u001b[0m \u001b[38;5;124;03m    Return an iterator of the values.\u001b[39;00m\n\u001b[0;32m    747\u001b[0m \n\u001b[1;32m   (...)\u001b[0m\n\u001b[0;32m    754\u001b[0m \u001b[38;5;124;03m    iterator\u001b[39;00m\n\u001b[0;32m    755\u001b[0m \u001b[38;5;124;03m    \"\"\"\u001b[39;00m\n\u001b[0;32m    756\u001b[0m     \u001b[38;5;66;03m# We are explicitly making element iterators.\u001b[39;00m\n",
      "\u001b[1;31mKeyboardInterrupt\u001b[0m: "
     ]
    }
   ],
   "source": [
    "import numpy as np\n",
    "\n",
    "def shuffle_positions(row, prefixes, counts):\n",
    "    result = row.to_dict()\n",
    "    for prefix, count in zip(prefixes, counts):\n",
    "        if prefix[-1] == 'd':\n",
    "            positions = [\n",
    "                (row[f'{prefix[:-1]}{i}_{prefix[-1]}x'], row[f'{prefix[:-1]}{i}_{prefix[-1]}y'])\n",
    "                for i in range(1, count + 1)\n",
    "            ]\n",
    "        else:\n",
    "            positions = [\n",
    "                (row[f'{prefix}_{i}_x'], row[f'{prefix}_{i}_y'])\n",
    "                for i in range(1, count + 1)\n",
    "            ]\n",
    "        np.random.shuffle(positions)\n",
    "        for i in range(1, count + 1):\n",
    "            if prefix[-1] == 'd':\n",
    "                result[f'{prefix[:-1]}{i}_{prefix[-1]}x'] = positions[i-1][0]\n",
    "                result[f'{prefix[:-1]}{i}_{prefix[-1]}y'] = positions[i-1][1]\n",
    "            else:\n",
    "                result[f'{prefix}_{i}_x'] = positions[i-1][0]\n",
    "                result[f'{prefix}_{i}_y'] = positions[i-1][1]\n",
    "    return pd.Series(result)\n",
    "\n",
    "prefixes = ['opposition', 'opposition_d', 'teammate', 'teammate_d']\n",
    "counts = [4, 4, 2, 2]\n",
    "\n",
    "shuffled_df = df_1h.apply(shuffle_positions, axis=1, prefixes=prefixes, counts=counts)\n",
    "\n",
    "shuffled_df.head()"
   ]
  },
  {
   "cell_type": "code",
   "execution_count": null,
   "id": "e9dbcaa6",
   "metadata": {},
   "outputs": [],
   "source": [
    "df_1h.head()"
   ]
  },
  {
   "cell_type": "code",
   "execution_count": null,
   "id": "d1b017ed",
   "metadata": {},
   "outputs": [],
   "source": [
    "shuffled_df.columns"
   ]
  },
  {
   "cell_type": "code",
   "execution_count": null,
   "id": "ed54967d",
   "metadata": {},
   "outputs": [],
   "source": [
    "len(shuffled_slim.columns)"
   ]
  },
  {
   "cell_type": "code",
   "execution_count": null,
   "id": "d6d873ee",
   "metadata": {},
   "outputs": [],
   "source": [
    "shuffled_slim = shuffled_df.copy()\n",
    "num_cols = np.arange(0,32,1)\n",
    "shuffled_slim = shuffled_slim.iloc[:, num_cols]\n",
    "shuffled_slim.head()"
   ]
  },
  {
   "cell_type": "code",
   "execution_count": 7,
   "id": "e63868bb",
   "metadata": {},
   "outputs": [],
   "source": [
    "from sklearn.model_selection import train_test_split\n",
    "X_train, X_test, y_train, y_test, sb_train, sb_test = train_test_split(\n",
    "    df_1h, y, sb_labs, random_state=42)"
   ]
  },
  {
   "cell_type": "code",
   "execution_count": 13,
   "id": "e5ddefd4",
   "metadata": {},
   "outputs": [],
   "source": [
    "import torch\n",
    "import torch.nn as nn\n",
    "import torch.optim as optim\n",
    "from sklearn.preprocessing import StandardScaler\n",
    "\n",
    "import numpy as np\n",
    "\n",
    "np.random.seed(42)\n",
    "torch.manual_seed(42)\n",
    "if torch.cuda.is_available():\n",
    "    torch.cuda.manual_seed(42)\n",
    "    torch.cuda.manual_seed_all(42) \n",
    "\n",
    "device = torch.device('cuda' if torch.cuda.is_available() else 'cpu')\n",
    "scaler = StandardScaler()\n",
    "X_train_scaled = scaler.fit_transform(X_train)\n",
    "X_test_scaled = scaler.transform(X_test)\n",
    "\n",
    "X_train_tensor = torch.tensor(X_train_scaled, dtype=torch.float32)\n",
    "y_train_tensor = torch.tensor(y_train, dtype=torch.float32)  \n",
    "X_test_tensor = torch.tensor(X_test_scaled, dtype=torch.float32)\n",
    "y_test_tensor = torch.tensor(y_test, dtype=torch.float32)\n",
    "\n",
    "train_dataset = torch.utils.data.TensorDataset(X_train_tensor, y_train_tensor)\n",
    "test_dataset = torch.utils.data.TensorDataset(X_test_tensor, y_test_tensor)\n",
    "\n",
    "train_loader = torch.utils.data.DataLoader(dataset=train_dataset, batch_size=50, shuffle=True)\n",
    "test_loader = torch.utils.data.DataLoader(dataset=test_dataset, batch_size=50, shuffle=False)"
   ]
  },
  {
   "cell_type": "code",
   "execution_count": 11,
   "id": "675def13",
   "metadata": {},
   "outputs": [],
   "source": [
    "from sklearn.metrics import roc_auc_score\n",
    "from hyperopt import hp, fmin, tpe, STATUS_OK, Trials\n",
    "from sklearn.model_selection import KFold\n",
    "space = {\n",
    "    'hidden_size': hp.choice('hidden_size', [100, 200, 300, 400, 500]),\n",
    "    'learning_rate': hp.loguniform('learning_rate', np.log(0.0001), np.log(0.01)),\n",
    "    'batch_size': hp.choice('batch_size', [50, 100, 200]),\n",
    "}\n",
    "\n",
    "def objective(params):\n",
    "    # Initialize the model with the given hyperparameters\n",
    "    hidden_size = int(params['hidden_size'])\n",
    "    learning_rate = params['learning_rate']\n",
    "    batch_size = int(params['batch_size'])\n",
    "\n",
    "    kfold = KFold(n_splits=10, shuffle=True, random_state=42)\n",
    "    auc_scores = []\n",
    "\n",
    "    for train_idx, val_idx in kfold.split(X_train_tensor):\n",
    "        X_train_fold, X_val_fold = X_train_tensor[train_idx], X_train_tensor[val_idx]\n",
    "        y_train_fold, y_val_fold = y_train_tensor[train_idx], y_train_tensor[val_idx]\n",
    "\n",
    "        train_dataset = torch.utils.data.TensorDataset(X_train_fold, y_train_fold)\n",
    "        val_dataset = torch.utils.data.TensorDataset(X_val_fold, y_val_fold)\n",
    "\n",
    "        train_loader = torch.utils.data.DataLoader(dataset=train_dataset, batch_size=batch_size, shuffle=True)\n",
    "        val_loader = torch.utils.data.DataLoader(dataset=val_dataset, batch_size=batch_size, shuffle=False)\n",
    "\n",
    "        model = nn.Sequential(\n",
    "            nn.Linear(X_train.shape[1], hidden_size),\n",
    "            nn.ReLU(),\n",
    "            nn.Linear(hidden_size, hidden_size),\n",
    "            nn.ReLU(),\n",
    "            nn.Linear(hidden_size, 1),\n",
    "            nn.Sigmoid()\n",
    "        ).to(device)\n",
    "\n",
    "        optimizer = optim.Adam(model.parameters(), lr=learning_rate)\n",
    "        criterion = nn.BCELoss()\n",
    "\n",
    "        # Train the model\n",
    "        num_epochs = 4\n",
    "        for epoch in range(num_epochs):\n",
    "            model.train()\n",
    "            for batch_idx, (data, target) in enumerate(train_loader):\n",
    "                data, target = data.to(device), target.to(device)\n",
    "                output = model(data).squeeze()\n",
    "                loss = criterion(output, target)\n",
    "\n",
    "                optimizer.zero_grad()\n",
    "                loss.backward()\n",
    "                optimizer.step()\n",
    "\n",
    "        # Evaluate the model\n",
    "        model.eval()\n",
    "        y_true = []\n",
    "        y_scores = []\n",
    "        with torch.no_grad():\n",
    "            for data, target in val_loader:\n",
    "                data, target = data.to(device), target.to(device)\n",
    "                output = model(data).squeeze()\n",
    "                y_true.extend(target.cpu().numpy())\n",
    "                y_scores.extend(output.cpu().numpy())\n",
    "\n",
    "        auc = roc_auc_score(y_true, y_scores)\n",
    "        auc_scores.append(auc)\n",
    "\n",
    "    mean_auc = np.mean(auc_scores)\n",
    "    print(f'Cross-Validation ROC AUC: {mean_auc:.4f}')\n",
    "\n",
    "    # Return the negative mean ROC AUC as Hyperopt minimizes the objective function\n",
    "    return {'loss': -mean_auc, 'status': STATUS_OK}\n"
   ]
  },
  {
   "cell_type": "code",
   "execution_count": 12,
   "id": "54b69a19",
   "metadata": {
    "scrolled": true
   },
   "outputs": [
    {
     "name": "stdout",
     "output_type": "stream",
     "text": [
      "Cross-Validation ROC AUC: 0.7864                                                                                   \n",
      "Cross-Validation ROC AUC: 0.7874                                                                                   \n",
      "Cross-Validation ROC AUC: 0.7833                                                                                   \n",
      "Cross-Validation ROC AUC: 0.7866                                                                                   \n",
      "Cross-Validation ROC AUC: 0.7840                                                                                   \n",
      "Cross-Validation ROC AUC: 0.7860                                                                                   \n",
      "Cross-Validation ROC AUC: 0.7871                                                                                   \n",
      "Cross-Validation ROC AUC: 0.7866                                                                                   \n",
      "Cross-Validation ROC AUC: 0.7862                                                                                   \n",
      "Cross-Validation ROC AUC: 0.7856                                                                                   \n",
      "Cross-Validation ROC AUC: 0.7841                                                                                   \n",
      "Cross-Validation ROC AUC: 0.7860                                                                                   \n",
      "Cross-Validation ROC AUC: 0.7840                                                                                   \n",
      "Cross-Validation ROC AUC: 0.7838                                                                                   \n",
      "Cross-Validation ROC AUC: 0.7840                                                                                   \n",
      "Cross-Validation ROC AUC: 0.7875                                                                                   \n",
      "Cross-Validation ROC AUC: 0.7856                                                                                   \n",
      "Cross-Validation ROC AUC: 0.7836                                                                                   \n",
      "Cross-Validation ROC AUC: 0.7821                                                                                   \n",
      "Cross-Validation ROC AUC: 0.7824                                                                                   \n",
      "Cross-Validation ROC AUC: 0.7856                                                                                   \n",
      "Cross-Validation ROC AUC: 0.7841                                                                                   \n",
      "Cross-Validation ROC AUC: 0.7871                                                                                   \n",
      "Cross-Validation ROC AUC: 0.7857                                                                                   \n",
      "Cross-Validation ROC AUC: 0.7828                                                                                   \n",
      "Cross-Validation ROC AUC: 0.7855                                                                                   \n",
      "Cross-Validation ROC AUC: 0.7862                                                                                   \n",
      "Cross-Validation ROC AUC: 0.7852                                                                                   \n",
      "Cross-Validation ROC AUC: 0.7849                                                                                   \n",
      "Cross-Validation ROC AUC: 0.7865                                                                                   \n",
      "Cross-Validation ROC AUC: 0.7877                                                                                   \n",
      "Cross-Validation ROC AUC: 0.7885                                                                                   \n",
      "Cross-Validation ROC AUC: 0.7851                                                                                   \n",
      "Cross-Validation ROC AUC: 0.7876                                                                                   \n",
      "Cross-Validation ROC AUC: 0.7859                                                                                   \n",
      "Cross-Validation ROC AUC: 0.7828                                                                                   \n",
      "Cross-Validation ROC AUC: 0.7879                                                                                   \n",
      "Cross-Validation ROC AUC: 0.7861                                                                                   \n",
      "Cross-Validation ROC AUC: 0.7846                                                                                   \n",
      "Cross-Validation ROC AUC: 0.7837                                                                                   \n",
      "Cross-Validation ROC AUC: 0.7851                                                                                   \n",
      "Cross-Validation ROC AUC: 0.7845                                                                                   \n",
      "Cross-Validation ROC AUC: 0.7852                                                                                   \n",
      "Cross-Validation ROC AUC: 0.7844                                                                                   \n",
      "Cross-Validation ROC AUC: 0.7843                                                                                   \n",
      "Cross-Validation ROC AUC: 0.7839                                                                                   \n",
      "Cross-Validation ROC AUC: 0.7870                                                                                   \n",
      "Cross-Validation ROC AUC: 0.7867                                                                                   \n",
      "Cross-Validation ROC AUC: 0.7832                                                                                   \n",
      "Cross-Validation ROC AUC: 0.7864                                                                                   \n",
      "Cross-Validation ROC AUC: 0.7820                                                                                   \n",
      "Cross-Validation ROC AUC: 0.7859                                                                                   \n",
      "Cross-Validation ROC AUC: 0.7847                                                                                   \n",
      "Cross-Validation ROC AUC: 0.7864                                                                                   \n",
      "Cross-Validation ROC AUC: 0.7845                                                                                   \n",
      "Cross-Validation ROC AUC: 0.7835                                                                                   \n",
      "Cross-Validation ROC AUC: 0.7846                                                                                   \n",
      "Cross-Validation ROC AUC: 0.7856                                                                                   \n",
      "Cross-Validation ROC AUC: 0.7857                                                                                   \n",
      "Cross-Validation ROC AUC: 0.7836                                                                                   \n",
      "Cross-Validation ROC AUC: 0.7862                                                                                   \n",
      "Cross-Validation ROC AUC: 0.7835                                                                                   \n",
      "Cross-Validation ROC AUC: 0.7853                                                                                   \n",
      "Cross-Validation ROC AUC: 0.7849                                                                                   \n",
      "Cross-Validation ROC AUC: 0.7869                                                                                   \n",
      "Cross-Validation ROC AUC: 0.7876                                                                                   \n",
      "Cross-Validation ROC AUC: 0.7863                                                                                   \n",
      "Cross-Validation ROC AUC: 0.7863                                                                                   \n",
      "Cross-Validation ROC AUC: 0.7830                                                                                   \n",
      "Cross-Validation ROC AUC: 0.7848                                                                                   \n",
      "Cross-Validation ROC AUC: 0.7868                                                                                   \n",
      "Cross-Validation ROC AUC: 0.7873                                                                                   \n",
      "Cross-Validation ROC AUC: 0.7857                                                                                   \n",
      "Cross-Validation ROC AUC: 0.7856                                                                                   \n",
      "Cross-Validation ROC AUC: 0.7860                                                                                   \n",
      "Cross-Validation ROC AUC: 0.7856                                                                                   \n",
      "Cross-Validation ROC AUC: 0.7867                                                                                   \n",
      "Cross-Validation ROC AUC: 0.7850                                                                                   \n",
      "Cross-Validation ROC AUC: 0.7862                                                                                   \n",
      "Cross-Validation ROC AUC: 0.7843                                                                                   \n",
      "Cross-Validation ROC AUC: 0.7837                                                                                   \n",
      "Cross-Validation ROC AUC: 0.7829                                                                                   \n",
      "Cross-Validation ROC AUC: 0.7845                                                                                   \n",
      "Cross-Validation ROC AUC: 0.7855                                                                                   \n",
      "Cross-Validation ROC AUC: 0.7858                                                                                   \n",
      "Cross-Validation ROC AUC: 0.7863                                                                                   \n",
      "Cross-Validation ROC AUC: 0.7872                                                                                   \n",
      "Cross-Validation ROC AUC: 0.7858                                                                                   \n",
      "Cross-Validation ROC AUC: 0.7857                                                                                   \n",
      "Cross-Validation ROC AUC: 0.7867                                                                                   \n",
      "Cross-Validation ROC AUC: 0.7837                                                                                   \n",
      "Cross-Validation ROC AUC: 0.7857                                                                                   \n",
      "Cross-Validation ROC AUC: 0.7853                                                                                   \n",
      "Cross-Validation ROC AUC: 0.7869                                                                                   \n",
      "Cross-Validation ROC AUC: 0.7815                                                                                   \n",
      "Cross-Validation ROC AUC: 0.7828                                                                                   \n",
      "Cross-Validation ROC AUC: 0.7861                                                                                   \n",
      "Cross-Validation ROC AUC: 0.7831                                                                                   \n",
      "Cross-Validation ROC AUC: 0.7852                                                                                   \n",
      "Cross-Validation ROC AUC: 0.7873                                                                                   \n",
      "100%|██████████████████████████████████████| 100/100 [5:09:01<00:00, 185.41s/trial, best loss: -0.7885298752867007]\n",
      "Best hyperparameters: {'batch_size': 0, 'hidden_size': 3, 'learning_rate': 0.00023830769715027292}\n"
     ]
    }
   ],
   "source": [
    "# Run hyperparameter optimization\n",
    "trials = Trials()\n",
    "best = fmin(fn=objective,\n",
    "            space=space,\n",
    "            algo=tpe.suggest,\n",
    "            max_evals=100,\n",
    "            trials=trials)\n",
    "\n",
    "print('Best hyperparameters:', best)"
   ]
  },
  {
   "cell_type": "code",
   "execution_count": 14,
   "id": "e7a3c3f8",
   "metadata": {},
   "outputs": [],
   "source": [
    "input_size = X_train.shape[1]\n",
    "hidden_size = 400\n",
    "num_classes = 1 \n",
    "\n",
    "\n",
    "model = nn.Sequential(\n",
    "    nn.Linear(input_size, hidden_size),\n",
    "    nn.ReLU(),\n",
    "    nn.Linear(hidden_size, hidden_size),\n",
    "    nn.ReLU(),\n",
    "    nn.Linear(hidden_size, num_classes),\n",
    "    nn.Sigmoid() \n",
    ").to(device)\n",
    "\n",
    "# Define optimizer and loss function\n",
    "optimizer = optim.Adam(model.parameters(), lr=0.00023830769715027292)\n",
    "criterion = nn.BCELoss()  "
   ]
  },
  {
   "cell_type": "code",
   "execution_count": 15,
   "id": "9fdadbcc",
   "metadata": {},
   "outputs": [],
   "source": [
    "def train(epoch):\n",
    "    model.train()\n",
    "    for batch_idx, (data, target) in enumerate(train_loader):\n",
    "        data, target = data.to(device), target.to(device)\n",
    "\n",
    "        output = model(data).squeeze() \n",
    "        loss = criterion(output, target)\n",
    "\n",
    "        optimizer.zero_grad()\n",
    "        loss.backward()\n",
    "        optimizer.step()\n",
    "\n",
    "\n",
    "def test(epoch):\n",
    "    model.eval()\n",
    "    correct = 0\n",
    "    total = 0\n",
    "    with torch.no_grad():\n",
    "        for data, target in test_loader:\n",
    "            data, target = data.to(device), target.to(device)\n",
    "            output = model(data).squeeze()\n",
    "            predicted = (output > 0.5).float()  # Apply threshold for binary classification\n",
    "            correct += (predicted == target).sum().item()\n",
    "            total += target.size(0)\n",
    "    accuracy = 100 * correct / total\n",
    "    print(f'Test accuracy after {epoch+1} epochs: {accuracy:.2f} %')\n"
   ]
  },
  {
   "cell_type": "code",
   "execution_count": 16,
   "id": "304fe506",
   "metadata": {},
   "outputs": [
    {
     "name": "stdout",
     "output_type": "stream",
     "text": [
      "Test accuracy after 1 epochs: 90.72 %\n",
      "Test accuracy after 2 epochs: 90.66 %\n",
      "Test accuracy after 3 epochs: 90.84 %\n",
      "Test accuracy after 4 epochs: 90.85 %\n"
     ]
    }
   ],
   "source": [
    "num_epochs = 4\n",
    "for epoch in range(num_epochs):\n",
    "    train(epoch)\n",
    "    test(epoch)\n",
    "\n",
    "# Save the trained model\n",
    "torch.save(model.state_dict(), 'binary_classification_model.pth')\n"
   ]
  },
  {
   "cell_type": "code",
   "execution_count": 17,
   "id": "5a814fcd",
   "metadata": {},
   "outputs": [],
   "source": [
    "model.eval()\n",
    "with torch.no_grad():\n",
    "    output = model(X_test_tensor.to(device)).squeeze()\n",
    "    y_pred_probs = output.cpu().numpy()\n",
    "\n"
   ]
  },
  {
   "cell_type": "code",
   "execution_count": 18,
   "id": "91c233cf",
   "metadata": {},
   "outputs": [
    {
     "data": {
      "image/png": "[encoded data removed]",
      "text/plain": [
       "<Figure size 432x288 with 1 Axes>"
      ]
     },
     "metadata": {
      "needs_background": "light"
     },
     "output_type": "display_data"
    }
   ],
   "source": [
    "from sklearn.metrics import roc_auc_score, roc_curve\n",
    "import matplotlib.pyplot as plt\n",
    "plt.style.use('ggplot')\n",
    "y_test_conv = y_test.astype(int)\n",
    "roc_auc = roc_auc_score(y_test_conv, y_pred_probs)\n",
    "\n",
    "fpr, tpr, _ = roc_curve(y_test_conv, y_pred_probs)\n",
    "plt.figure()\n",
    "plt.plot(fpr, tpr, color='darkorange', lw=2, label=f'ROC curve (area = {roc_auc:.2f})')\n",
    "plt.plot([0, 1], [0, 1], color='navy', lw=2, linestyle='--')\n",
    "plt.xlim([0.0, 1.0])\n",
    "plt.ylim([0.0, 1.05])\n",
    "plt.xlabel('False Positive Rate')\n",
    "plt.ylabel('True Positive Rate')\n",
    "plt.title('Receiver Operating Characteristic')\n",
    "plt.legend(loc='lower right')\n",
    "plt.show()"
   ]
  },
  {
   "cell_type": "code",
   "execution_count": 19,
   "id": "dc44b5c8",
   "metadata": {},
   "outputs": [
    {
     "data": {
      "image/png": "[encoded data removed]",
      "text/plain": [
       "<Figure size 720x504 with 1 Axes>"
      ]
     },
     "metadata": {},
     "output_type": "display_data"
    }
   ],
   "source": [
    "from sklearn.metrics import roc_auc_score, roc_curve\n",
    "import matplotlib.pyplot as plt\n",
    "plt.style.use('ggplot')\n",
    "\n",
    "\n",
    "roc_auc_sb = roc_auc_score(y_test_conv, sb_test)\n",
    "\n",
    "fpr_sb, tpr_sb, _ = roc_curve(y_test_conv, sb_test)\n",
    "plt.figure(figsize = (10,7))\n",
    "plt.plot(fpr_sb, tpr_sb, color='darkorange', lw=2, label=f'Statsbomb ROC curve (area = {roc_auc_sb:.2f})')\n",
    "plt.plot(fpr, tpr, color='#FF00FF', lw=2, label=f'My Model ROC curve (area = {roc_auc:.2f})')\n",
    "plt.plot([0, 1], [0, 1], color='navy', lw=2, linestyle='--', label = 'Random Classifier')\n",
    "plt.xlim([0.0, 1.0])\n",
    "plt.ylim([0.0, 1.05])\n",
    "plt.xlabel('False Positive Rate', fontsize = 14)\n",
    "plt.ylabel('True Positive Rate', fontsize = 14)\n",
    "plt.title('My Model vs Statsbomb ROC Curve', fontsize = 16)\n",
    "plt.legend(loc='lower right', fontsize = 14)\n",
    "#plt.savefig('first_attempt1.png', dpi = 1000, facecolor = 'white', bbox_inches = 'tight')\n",
    "plt.show()"
   ]
  },
  {
   "cell_type": "code",
   "execution_count": 20,
   "id": "c6bd2252",
   "metadata": {},
   "outputs": [
    {
     "name": "stdout",
     "output_type": "stream",
     "text": [
      "Model Log Loss: 0.2618126838070559\n",
      "Statsbomb Log Loss: 0.25385731116418275\n"
     ]
    }
   ],
   "source": [
    "from sklearn.metrics import log_loss\n",
    "\n",
    "logloss_model = log_loss(y_test_conv, y_pred_probs)\n",
    "logloss_sb = log_loss(y_test_conv, sb_test)\n",
    "\n",
    "print(f\"Model Log Loss: {logloss_model}\")\n",
    "print(f\"Statsbomb Log Loss: {logloss_sb}\")"
   ]
  },
  {
   "cell_type": "code",
   "execution_count": 21,
   "id": "fd827019",
   "metadata": {},
   "outputs": [
    {
     "name": "stdout",
     "output_type": "stream",
     "text": [
      "My model: 0.7827543753019466\n",
      "SB: 0.7993221281967366\n"
     ]
    }
   ],
   "source": [
    "from sklearn.metrics import roc_auc_score, roc_curve\n",
    "roc_auc = roc_auc_score(y_test_conv, y_pred_probs)\n",
    "roc_auc_sb = roc_auc_score(y_test_conv, sb_test)\n",
    "print(f\"My model: {roc_auc}\")\n",
    "print(f\"SB: {roc_auc_sb}\")"
   ]
  },
  {
   "cell_type": "code",
   "execution_count": null,
   "id": "c2d9428b",
   "metadata": {},
   "outputs": [],
   "source": []
  }
 ],
 "metadata": {
  "kernelspec": {
   "display_name": "Python 3 (ipykernel)",
   "language": "python",
   "name": "python3"
  },
  "language_info": {
   "codemirror_mode": {
    "name": "ipython",
    "version": 3
   },
   "file_extension": ".py",
   "mimetype": "text/x-python",
   "name": "python",
   "nbconvert_exporter": "python",
   "pygments_lexer": "ipython3",
   "version": "3.9.12"
  }
 },
 "nbformat": 4,
 "nbformat_minor": 5
}
