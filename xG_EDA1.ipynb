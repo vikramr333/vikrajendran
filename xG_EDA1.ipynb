{
 "cells": [
  {
   "cell_type": "code",
   "execution_count": 1,
   "id": "615095e6",
   "metadata": {},
   "outputs": [],
   "source": [
    "import pandas as pd"
   ]
  },
  {
   "cell_type": "code",
   "execution_count": 2,
   "id": "8ecfa9a0",
   "metadata": {},
   "outputs": [],
   "source": [
    "df = pd.read_csv('sb_30-05_slim_slim-1.csv')"
   ]
  },
  {
   "cell_type": "code",
   "execution_count": 3,
   "id": "30fe7f46",
   "metadata": {},
   "outputs": [
    {
     "data": {
      "text/html": [
       "<div>\n",
       "<style scoped>\n",
       "    .dataframe tbody tr th:only-of-type {\n",
       "        vertical-align: middle;\n",
       "    }\n",
       "\n",
       "    .dataframe tbody tr th {\n",
       "        vertical-align: top;\n",
       "    }\n",
       "\n",
       "    .dataframe thead th {\n",
       "        text-align: right;\n",
       "    }\n",
       "</style>\n",
       "<table border=\"1\" class=\"dataframe\">\n",
       "  <thead>\n",
       "    <tr style=\"text-align: right;\">\n",
       "      <th></th>\n",
       "      <th>x</th>\n",
       "      <th>y</th>\n",
       "      <th>goalkeeper_dx</th>\n",
       "      <th>goalkeeper_dy</th>\n",
       "      <th>opposition_1_dx</th>\n",
       "      <th>opposition_1_dy</th>\n",
       "      <th>opposition_2_dx</th>\n",
       "      <th>opposition_2_dy</th>\n",
       "      <th>opposition_3_dx</th>\n",
       "      <th>opposition_3_dy</th>\n",
       "      <th>...</th>\n",
       "      <th>shot_one_on_one</th>\n",
       "      <th>shot_outcome</th>\n",
       "      <th>shot_technique</th>\n",
       "      <th>shot_statsbomb_xg</th>\n",
       "      <th>shot_type</th>\n",
       "      <th>under_pressure</th>\n",
       "      <th>prev_type</th>\n",
       "      <th>goal</th>\n",
       "      <th>prev_x</th>\n",
       "      <th>prev_y</th>\n",
       "    </tr>\n",
       "  </thead>\n",
       "  <tbody>\n",
       "    <tr>\n",
       "      <th>0</th>\n",
       "      <td>100.4</td>\n",
       "      <td>35.1</td>\n",
       "      <td>18.0</td>\n",
       "      <td>3.4</td>\n",
       "      <td>1.5</td>\n",
       "      <td>0.0</td>\n",
       "      <td>5.0</td>\n",
       "      <td>-3.6</td>\n",
       "      <td>6.8</td>\n",
       "      <td>3.0</td>\n",
       "      <td>...</td>\n",
       "      <td>False</td>\n",
       "      <td>Blocked</td>\n",
       "      <td>Normal</td>\n",
       "      <td>0.056644</td>\n",
       "      <td>Open Play</td>\n",
       "      <td>False</td>\n",
       "      <td>Ball Recovery</td>\n",
       "      <td>False</td>\n",
       "      <td>101.7</td>\n",
       "      <td>35.6</td>\n",
       "    </tr>\n",
       "    <tr>\n",
       "      <th>1</th>\n",
       "      <td>114.6</td>\n",
       "      <td>33.5</td>\n",
       "      <td>3.7</td>\n",
       "      <td>2.9</td>\n",
       "      <td>-0.3</td>\n",
       "      <td>1.1</td>\n",
       "      <td>-1.6</td>\n",
       "      <td>3.6</td>\n",
       "      <td>0.0</td>\n",
       "      <td>5.6</td>\n",
       "      <td>...</td>\n",
       "      <td>False</td>\n",
       "      <td>Saved</td>\n",
       "      <td>Normal</td>\n",
       "      <td>0.143381</td>\n",
       "      <td>Open Play</td>\n",
       "      <td>True</td>\n",
       "      <td>Pass</td>\n",
       "      <td>False</td>\n",
       "      <td>111.0</td>\n",
       "      <td>69.2</td>\n",
       "    </tr>\n",
       "    <tr>\n",
       "      <th>2</th>\n",
       "      <td>106.2</td>\n",
       "      <td>55.8</td>\n",
       "      <td>12.0</td>\n",
       "      <td>-12.9</td>\n",
       "      <td>2.7</td>\n",
       "      <td>3.9</td>\n",
       "      <td>2.9</td>\n",
       "      <td>-5.0</td>\n",
       "      <td>2.7</td>\n",
       "      <td>-9.6</td>\n",
       "      <td>...</td>\n",
       "      <td>False</td>\n",
       "      <td>Blocked</td>\n",
       "      <td>Normal</td>\n",
       "      <td>0.038188</td>\n",
       "      <td>Open Play</td>\n",
       "      <td>False</td>\n",
       "      <td>Ball Recovery</td>\n",
       "      <td>False</td>\n",
       "      <td>105.8</td>\n",
       "      <td>56.5</td>\n",
       "    </tr>\n",
       "    <tr>\n",
       "      <th>3</th>\n",
       "      <td>113.9</td>\n",
       "      <td>47.4</td>\n",
       "      <td>5.0</td>\n",
       "      <td>-5.5</td>\n",
       "      <td>0.2</td>\n",
       "      <td>-1.0</td>\n",
       "      <td>-0.7</td>\n",
       "      <td>-0.8</td>\n",
       "      <td>-0.9</td>\n",
       "      <td>-2.3</td>\n",
       "      <td>...</td>\n",
       "      <td>False</td>\n",
       "      <td>Blocked</td>\n",
       "      <td>Normal</td>\n",
       "      <td>0.052781</td>\n",
       "      <td>Open Play</td>\n",
       "      <td>False</td>\n",
       "      <td>Pass</td>\n",
       "      <td>False</td>\n",
       "      <td>120.0</td>\n",
       "      <td>0.1</td>\n",
       "    </tr>\n",
       "    <tr>\n",
       "      <th>4</th>\n",
       "      <td>89.2</td>\n",
       "      <td>42.5</td>\n",
       "      <td>27.7</td>\n",
       "      <td>-2.4</td>\n",
       "      <td>2.7</td>\n",
       "      <td>1.3</td>\n",
       "      <td>3.1</td>\n",
       "      <td>-1.9</td>\n",
       "      <td>1.9</td>\n",
       "      <td>9.0</td>\n",
       "      <td>...</td>\n",
       "      <td>False</td>\n",
       "      <td>Blocked</td>\n",
       "      <td>Normal</td>\n",
       "      <td>0.021272</td>\n",
       "      <td>Open Play</td>\n",
       "      <td>True</td>\n",
       "      <td>Carry</td>\n",
       "      <td>False</td>\n",
       "      <td>87.6</td>\n",
       "      <td>46.0</td>\n",
       "    </tr>\n",
       "  </tbody>\n",
       "</table>\n",
       "<p>5 rows × 44 columns</p>\n",
       "</div>"
      ],
      "text/plain": [
       "       x     y  goalkeeper_dx  goalkeeper_dy  opposition_1_dx  \\\n",
       "0  100.4  35.1           18.0            3.4              1.5   \n",
       "1  114.6  33.5            3.7            2.9             -0.3   \n",
       "2  106.2  55.8           12.0          -12.9              2.7   \n",
       "3  113.9  47.4            5.0           -5.5              0.2   \n",
       "4   89.2  42.5           27.7           -2.4              2.7   \n",
       "\n",
       "   opposition_1_dy  opposition_2_dx  opposition_2_dy  opposition_3_dx  \\\n",
       "0              0.0              5.0             -3.6              6.8   \n",
       "1              1.1             -1.6              3.6              0.0   \n",
       "2              3.9              2.9             -5.0              2.7   \n",
       "3             -1.0             -0.7             -0.8             -0.9   \n",
       "4              1.3              3.1             -1.9              1.9   \n",
       "\n",
       "   opposition_3_dy  ...  shot_one_on_one  shot_outcome  shot_technique  \\\n",
       "0              3.0  ...            False       Blocked          Normal   \n",
       "1              5.6  ...            False         Saved          Normal   \n",
       "2             -9.6  ...            False       Blocked          Normal   \n",
       "3             -2.3  ...            False       Blocked          Normal   \n",
       "4              9.0  ...            False       Blocked          Normal   \n",
       "\n",
       "   shot_statsbomb_xg  shot_type  under_pressure      prev_type   goal  prev_x  \\\n",
       "0           0.056644  Open Play           False  Ball Recovery  False   101.7   \n",
       "1           0.143381  Open Play            True           Pass  False   111.0   \n",
       "2           0.038188  Open Play           False  Ball Recovery  False   105.8   \n",
       "3           0.052781  Open Play           False           Pass  False   120.0   \n",
       "4           0.021272  Open Play            True          Carry  False    87.6   \n",
       "\n",
       "   prev_y  \n",
       "0    35.6  \n",
       "1    69.2  \n",
       "2    56.5  \n",
       "3     0.1  \n",
       "4    46.0  \n",
       "\n",
       "[5 rows x 44 columns]"
      ]
     },
     "execution_count": 3,
     "metadata": {},
     "output_type": "execute_result"
    }
   ],
   "source": [
    "df.head()"
   ]
  },
  {
   "cell_type": "code",
   "execution_count": 4,
   "id": "29313a35",
   "metadata": {},
   "outputs": [
    {
     "data": {
      "text/plain": [
       "(77617, 44)"
      ]
     },
     "execution_count": 4,
     "metadata": {},
     "output_type": "execute_result"
    }
   ],
   "source": [
    "df.shape"
   ]
  },
  {
   "cell_type": "code",
   "execution_count": 5,
   "id": "cd946e63",
   "metadata": {},
   "outputs": [
    {
     "name": "stdout",
     "output_type": "stream",
     "text": [
      "['x', 'y', 'goalkeeper_dx', 'goalkeeper_dy', 'opposition_1_dx', 'opposition_1_dy', 'opposition_2_dx', 'opposition_2_dy', 'opposition_3_dx', 'opposition_3_dy', 'opposition_4_dx', 'opposition_4_dy', 'teammate_1_dx', 'teammate_1_dy', 'teammate_2_dx', 'teammate_2_dy', 'goalkeeper_x', 'goalkeeper_y', 'opposition_1_x', 'opposition_1_y', 'opposition_2_x', 'opposition_2_y', 'opposition_3_x', 'opposition_3_y', 'opposition_4_x', 'opposition_4_y', 'teammate_1_x', 'teammate_1_y', 'teammate_2_x', 'teammate_2_y', 'play_pattern', 'shot_aerial_won', 'shot_body_part', 'shot_first_time', 'shot_one_on_one', 'shot_outcome', 'shot_technique', 'shot_statsbomb_xg', 'shot_type', 'under_pressure', 'prev_type', 'goal', 'prev_x', 'prev_y']\n"
     ]
    }
   ],
   "source": [
    "print(list(df.columns))"
   ]
  },
  {
   "cell_type": "code",
   "execution_count": 6,
   "id": "8850f4c6",
   "metadata": {},
   "outputs": [],
   "source": [
    "import matplotlib.pyplot as plt\n",
    "plt.style.use('ggplot')"
   ]
  },
  {
   "cell_type": "code",
   "execution_count": 7,
   "id": "27fc76ad",
   "metadata": {},
   "outputs": [
    {
     "data": {
      "image/png": "[encoded data removed]",
      "text/plain": [
       "<Figure size 432x288 with 2 Axes>"
      ]
     },
     "metadata": {
      "needs_background": "light"
     },
     "output_type": "display_data"
    }
   ],
   "source": [
    "plt.hist2d(df['x'],df['y'], bins = 20, cmap = 'Blues')\n",
    "cb = plt.colorbar()\n",
    "cb.set_label('counts in bin');"
   ]
  },
  {
   "cell_type": "code",
   "execution_count": 8,
   "id": "929632b8",
   "metadata": {},
   "outputs": [
    {
     "name": "stdout",
     "output_type": "stream",
     "text": [
      "1\n"
     ]
    }
   ],
   "source": [
    "print(len(df[df['goalkeeper_dx']<-50]))"
   ]
  },
  {
   "cell_type": "code",
   "execution_count": 9,
   "id": "24491bda",
   "metadata": {},
   "outputs": [
    {
     "data": {
      "image/png": "[encoded data removed]",
      "text/plain": [
       "<Figure size 432x288 with 2 Axes>"
      ]
     },
     "metadata": {
      "needs_background": "light"
     },
     "output_type": "display_data"
    }
   ],
   "source": [
    "plt.hist2d(df['goalkeeper_dx'], df['goalkeeper_dy'], bins = 20, cmap = 'Blues')\n",
    "cb = plt.colorbar()\n",
    "cb.set_label('counts in bin');"
   ]
  },
  {
   "cell_type": "code",
   "execution_count": 10,
   "id": "bc125142",
   "metadata": {},
   "outputs": [
    {
     "data": {
      "image/png": "[encoded data removed]",
      "text/plain": [
       "<Figure size 432x288 with 2 Axes>"
      ]
     },
     "metadata": {
      "needs_background": "light"
     },
     "output_type": "display_data"
    }
   ],
   "source": [
    "plt.hist2d(df['goalkeeper_x'], df['goalkeeper_y'], bins = 20, cmap = 'Blues')\n",
    "cb = plt.colorbar()\n",
    "cb.set_label('counts in bin');"
   ]
  },
  {
   "cell_type": "code",
   "execution_count": 11,
   "id": "d4c496a3",
   "metadata": {},
   "outputs": [
    {
     "data": {
      "image/png": "[encoded data removed]",
      "text/plain": [
       "<Figure size 432x288 with 2 Axes>"
      ]
     },
     "metadata": {
      "needs_background": "light"
     },
     "output_type": "display_data"
    }
   ],
   "source": [
    "plt.hist2d(df['opposition_1_dx'], df['opposition_1_dy'], bins = 20, cmap = 'Blues')\n",
    "cb = plt.colorbar()\n",
    "cb.set_label('counts in bin');"
   ]
  },
  {
   "cell_type": "code",
   "execution_count": 12,
   "id": "1fed9072",
   "metadata": {},
   "outputs": [
    {
     "data": {
      "image/png": "[encoded data removed]",
      "text/plain": [
       "<Figure size 432x288 with 2 Axes>"
      ]
     },
     "metadata": {
      "needs_background": "light"
     },
     "output_type": "display_data"
    }
   ],
   "source": [
    "plt.hist2d(df['opposition_1_x'], df['opposition_1_y'], bins = 20, cmap = 'Blues')\n",
    "cb = plt.colorbar()\n",
    "cb.set_label('counts in bin');"
   ]
  },
  {
   "cell_type": "code",
   "execution_count": 13,
   "id": "2c53ded0",
   "metadata": {},
   "outputs": [
    {
     "data": {
      "image/png": "[encoded data removed]",
      "text/plain": [
       "<Figure size 432x288 with 2 Axes>"
      ]
     },
     "metadata": {
      "needs_background": "light"
     },
     "output_type": "display_data"
    }
   ],
   "source": [
    "plt.hist2d(df['opposition_2_dx'], df['opposition_2_dy'], bins = 20, cmap = 'Blues')\n",
    "cb = plt.colorbar()\n",
    "cb.set_label('counts in bin');"
   ]
  },
  {
   "cell_type": "code",
   "execution_count": 14,
   "id": "7e604926",
   "metadata": {},
   "outputs": [
    {
     "data": {
      "image/png": "[encoded data removed]",
      "text/plain": [
       "<Figure size 432x288 with 2 Axes>"
      ]
     },
     "metadata": {
      "needs_background": "light"
     },
     "output_type": "display_data"
    }
   ],
   "source": [
    "plt.hist2d(df['opposition_2_x'], df['opposition_2_y'], bins = 20, cmap = 'Blues')\n",
    "cb = plt.colorbar()\n",
    "cb.set_label('counts in bin');"
   ]
  },
  {
   "cell_type": "code",
   "execution_count": 15,
   "id": "f6bde195",
   "metadata": {},
   "outputs": [
    {
     "data": {
      "image/png": "[encoded data removed]",
      "text/plain": [
       "<Figure size 432x288 with 2 Axes>"
      ]
     },
     "metadata": {
      "needs_background": "light"
     },
     "output_type": "display_data"
    }
   ],
   "source": [
    "plt.hist2d(df['opposition_3_dx'], df['opposition_3_dy'], bins = 20, cmap = 'Blues')\n",
    "cb = plt.colorbar()\n",
    "cb.set_label('counts in bin');"
   ]
  },
  {
   "cell_type": "code",
   "execution_count": 16,
   "id": "16600430",
   "metadata": {},
   "outputs": [
    {
     "data": {
      "image/png": "[encoded data removed]",
      "text/plain": [
       "<Figure size 432x288 with 2 Axes>"
      ]
     },
     "metadata": {
      "needs_background": "light"
     },
     "output_type": "display_data"
    }
   ],
   "source": [
    "plt.hist2d(df['opposition_3_x'], df['opposition_3_y'], bins = 20, cmap = 'Blues')\n",
    "cb = plt.colorbar()\n",
    "cb.set_label('counts in bin');"
   ]
  },
  {
   "cell_type": "code",
   "execution_count": 17,
   "id": "6a720ce8",
   "metadata": {},
   "outputs": [
    {
     "data": {
      "image/png": "[encoded data removed]",
      "text/plain": [
       "<Figure size 432x288 with 2 Axes>"
      ]
     },
     "metadata": {
      "needs_background": "light"
     },
     "output_type": "display_data"
    }
   ],
   "source": [
    "plt.hist2d(df['opposition_4_dx'], df['opposition_4_dy'], bins = 20, cmap = 'Blues')\n",
    "cb = plt.colorbar()\n",
    "cb.set_label('counts in bin');"
   ]
  },
  {
   "cell_type": "code",
   "execution_count": 18,
   "id": "9469c774",
   "metadata": {},
   "outputs": [
    {
     "data": {
      "image/png": "[encoded data removed]",
      "text/plain": [
       "<Figure size 432x288 with 2 Axes>"
      ]
     },
     "metadata": {
      "needs_background": "light"
     },
     "output_type": "display_data"
    }
   ],
   "source": [
    "plt.hist2d(df['opposition_4_x'], df['opposition_4_y'], bins = 20, cmap = 'Blues')\n",
    "cb = plt.colorbar()\n",
    "cb.set_label('counts in bin');"
   ]
  },
  {
   "cell_type": "code",
   "execution_count": 19,
   "id": "1fbc9e6a",
   "metadata": {},
   "outputs": [
    {
     "data": {
      "image/png": "[encoded data removed]",
      "text/plain": [
       "<Figure size 432x288 with 2 Axes>"
      ]
     },
     "metadata": {
      "needs_background": "light"
     },
     "output_type": "display_data"
    }
   ],
   "source": [
    "plt.hist2d(df['teammate_1_dx'], df['teammate_1_dy'], bins = 20, cmap = 'Blues')\n",
    "cb = plt.colorbar()\n",
    "cb.set_label('counts in bin');"
   ]
  },
  {
   "cell_type": "code",
   "execution_count": 20,
   "id": "3f7d9208",
   "metadata": {},
   "outputs": [
    {
     "data": {
      "image/png": "[encoded data removed]",
      "text/plain": [
       "<Figure size 432x288 with 2 Axes>"
      ]
     },
     "metadata": {
      "needs_background": "light"
     },
     "output_type": "display_data"
    }
   ],
   "source": [
    "plt.hist2d(df['teammate_1_x'], df['teammate_1_y'], bins = 20, cmap = 'Blues')\n",
    "cb = plt.colorbar()\n",
    "cb.set_label('counts in bin');"
   ]
  },
  {
   "cell_type": "code",
   "execution_count": 21,
   "id": "a90e6b1b",
   "metadata": {},
   "outputs": [
    {
     "data": {
      "image/png": "[encoded data removed]",
      "text/plain": [
       "<Figure size 432x288 with 2 Axes>"
      ]
     },
     "metadata": {
      "needs_background": "light"
     },
     "output_type": "display_data"
    }
   ],
   "source": [
    "plt.hist2d(df['teammate_2_dx'], df['teammate_2_dy'], bins = 20, cmap = 'Blues')\n",
    "cb = plt.colorbar()\n",
    "cb.set_label('counts in bin');"
   ]
  },
  {
   "cell_type": "code",
   "execution_count": 22,
   "id": "d086bba4",
   "metadata": {},
   "outputs": [
    {
     "data": {
      "image/png": "[encoded data removed]",
      "text/plain": [
       "<Figure size 432x288 with 2 Axes>"
      ]
     },
     "metadata": {
      "needs_background": "light"
     },
     "output_type": "display_data"
    }
   ],
   "source": [
    "plt.hist2d(df['teammate_2_x'], df['teammate_2_y'], bins = 20, cmap = 'Blues')\n",
    "cb = plt.colorbar()\n",
    "cb.set_label('counts in bin');"
   ]
  },
  {
   "cell_type": "code",
   "execution_count": 23,
   "id": "3241b926",
   "metadata": {},
   "outputs": [
    {
     "data": {
      "image/png": "[encoded data removed]",
      "text/plain": [
       "<Figure size 432x288 with 2 Axes>"
      ]
     },
     "metadata": {
      "needs_background": "light"
     },
     "output_type": "display_data"
    }
   ],
   "source": [
    "plt.hist2d(df['prev_x'], df['prev_y'], bins = 10, cmap = 'Blues')\n",
    "cb = plt.colorbar()\n",
    "cb.set_label('counts in bin');"
   ]
  },
  {
   "cell_type": "code",
   "execution_count": 24,
   "id": "34d908f5",
   "metadata": {},
   "outputs": [
    {
     "name": "stdout",
     "output_type": "stream",
     "text": [
      "Regular Play      25701\n",
      "From Free Kick    16624\n",
      "From Throw In     14143\n",
      "From Corner       13437\n",
      "From Goal Kick     2921\n",
      "From Counter       2567\n",
      "From Keeper        1165\n",
      "From Kick Off       909\n",
      "Other               150\n",
      "Name: play_pattern, dtype: int64\n"
     ]
    }
   ],
   "source": [
    "print(df['play_pattern'].value_counts())"
   ]
  },
  {
   "cell_type": "code",
   "execution_count": 25,
   "id": "ac1f2aa9",
   "metadata": {},
   "outputs": [
    {
     "data": {
      "image/png": "[encoded data removed]",
      "text/plain": [
       "<Figure size 432x288 with 1 Axes>"
      ]
     },
     "metadata": {
      "needs_background": "light"
     },
     "output_type": "display_data"
    }
   ],
   "source": [
    "plt.hist(df['shot_statsbomb_xg'], bins = 30);"
   ]
  },
  {
   "cell_type": "code",
   "execution_count": 26,
   "id": "8826eec5",
   "metadata": {},
   "outputs": [
    {
     "data": {
      "text/plain": [
       "Carry            35902\n",
       "Pass             28315\n",
       "Ball Recovery     9272\n",
       "Foul Won          3790\n",
       "Shot               114\n",
       "Block              101\n",
       "Dribble             52\n",
       "Duel                22\n",
       "Interception        16\n",
       "Pressure            15\n",
       "Miscontrol          10\n",
       "Dispossessed         5\n",
       "50/50                2\n",
       "Clearance            1\n",
       "Name: prev_type, dtype: int64"
      ]
     },
     "execution_count": 26,
     "metadata": {},
     "output_type": "execute_result"
    }
   ],
   "source": [
    "df['prev_type'].value_counts()"
   ]
  },
  {
   "cell_type": "code",
   "execution_count": 27,
   "id": "9b8468cc",
   "metadata": {},
   "outputs": [
    {
     "name": "stdout",
     "output_type": "stream",
     "text": [
      "['x', 'y', 'goalkeeper_dx', 'goalkeeper_dy', 'opposition_1_dx', 'opposition_1_dy', 'opposition_2_dx', 'opposition_2_dy', 'opposition_3_dx', 'opposition_3_dy', 'opposition_4_dx', 'opposition_4_dy', 'teammate_1_dx', 'teammate_1_dy', 'teammate_2_dx', 'teammate_2_dy', 'goalkeeper_x', 'goalkeeper_y', 'opposition_1_x', 'opposition_1_y', 'opposition_2_x', 'opposition_2_y', 'opposition_3_x', 'opposition_3_y', 'opposition_4_x', 'opposition_4_y', 'teammate_1_x', 'teammate_1_y', 'teammate_2_x', 'teammate_2_y', 'play_pattern', 'shot_aerial_won', 'shot_body_part', 'shot_first_time', 'shot_one_on_one', 'shot_outcome', 'shot_technique', 'shot_statsbomb_xg', 'shot_type', 'under_pressure', 'prev_type', 'goal', 'prev_x', 'prev_y']\n"
     ]
    }
   ],
   "source": [
    "print(list(df.columns))"
   ]
  },
  {
   "cell_type": "code",
   "execution_count": 28,
   "id": "b0a2bfad",
   "metadata": {},
   "outputs": [
    {
     "data": {
      "image/png": "[encoded data removed]",
      "text/plain": [
       "<Figure size 720x432 with 1 Axes>"
      ]
     },
     "metadata": {
      "needs_background": "light"
     },
     "output_type": "display_data"
    }
   ],
   "source": [
    "prev_type_counts = df['prev_type'].value_counts()\n",
    "\n",
    "plt.figure(figsize=(10, 6))\n",
    "prev_type_counts.plot(kind='barh')\n",
    "plt.xlabel('Count')\n",
    "plt.ylabel('Previous Event Type')\n",
    "plt.title('Event Type Counts')\n",
    "plt.gca().invert_yaxis()  # To display the highest value on top\n",
    "plt.show()"
   ]
  },
  {
   "cell_type": "code",
   "execution_count": 29,
   "id": "edba7691",
   "metadata": {},
   "outputs": [
    {
     "data": {
      "image/png": "[encoded data removed]",
      "text/plain": [
       "<Figure size 720x432 with 1 Axes>"
      ]
     },
     "metadata": {
      "needs_background": "light"
     },
     "output_type": "display_data"
    }
   ],
   "source": [
    "play_pattern_counts = df['play_pattern'].value_counts()\n",
    "\n",
    "plt.figure(figsize=(10, 6))\n",
    "play_pattern_counts.plot(kind='barh')\n",
    "plt.xlabel('Count')\n",
    "plt.ylabel('Play Pattern Type')\n",
    "plt.title('Play Pattern Type Counts')\n",
    "plt.gca().invert_yaxis()  # To display the highest value on top\n",
    "plt.show()"
   ]
  },
  {
   "cell_type": "code",
   "execution_count": 30,
   "id": "237ec69e",
   "metadata": {},
   "outputs": [
    {
     "data": {
      "image/png": "[encoded data removed]",
      "text/plain": [
       "<Figure size 720x432 with 1 Axes>"
      ]
     },
     "metadata": {
      "needs_background": "light"
     },
     "output_type": "display_data"
    }
   ],
   "source": [
    "shot_type_counts = df['shot_type'].value_counts()\n",
    "\n",
    "plt.figure(figsize=(10, 6))\n",
    "shot_type_counts.plot(kind='barh')\n",
    "plt.xlabel('Count')\n",
    "plt.ylabel('Shot Type')\n",
    "plt.title('Shot Type Counts')\n",
    "plt.gca().invert_yaxis()  # To display the highest value on top\n",
    "plt.show()"
   ]
  },
  {
   "cell_type": "code",
   "execution_count": 31,
   "id": "dc226462",
   "metadata": {},
   "outputs": [
    {
     "data": {
      "image/png": "[encoded data removed]",
      "text/plain": [
       "<Figure size 720x432 with 1 Axes>"
      ]
     },
     "metadata": {
      "needs_background": "light"
     },
     "output_type": "display_data"
    }
   ],
   "source": [
    "shot_aerial_counts = df['shot_aerial_won'].value_counts()\n",
    "\n",
    "plt.figure(figsize=(10, 6))\n",
    "shot_aerial_counts.plot(kind='barh')\n",
    "plt.xlabel('Count')\n",
    "plt.title('Shot Aerial Duel Won')\n",
    "plt.gca().invert_yaxis()  # To display the highest value on top\n",
    "plt.show()"
   ]
  },
  {
   "cell_type": "code",
   "execution_count": 32,
   "id": "c608c99f",
   "metadata": {},
   "outputs": [
    {
     "data": {
      "image/png": "[encoded data removed]",
      "text/plain": [
       "<Figure size 720x432 with 1 Axes>"
      ]
     },
     "metadata": {
      "needs_background": "light"
     },
     "output_type": "display_data"
    }
   ],
   "source": [
    "shot_1v1_counts = df['shot_one_on_one'].value_counts()\n",
    "\n",
    "plt.figure(figsize=(10, 6))\n",
    "shot_1v1_counts.plot(kind='barh')\n",
    "plt.xlabel('Count')\n",
    "plt.title('Shot One On One')\n",
    "plt.gca().invert_yaxis()  # To display the highest value on top\n",
    "plt.show()"
   ]
  },
  {
   "cell_type": "code",
   "execution_count": 33,
   "id": "f4e5ea1d",
   "metadata": {},
   "outputs": [
    {
     "data": {
      "image/png": "[encoded data removed]",
      "text/plain": [
       "<Figure size 720x432 with 1 Axes>"
      ]
     },
     "metadata": {
      "needs_background": "light"
     },
     "output_type": "display_data"
    }
   ],
   "source": [
    "shot_ft_counts = df['shot_first_time'].value_counts()\n",
    "\n",
    "plt.figure(figsize=(10, 6))\n",
    "shot_ft_counts.plot(kind='barh')\n",
    "plt.xlabel('Count')\n",
    "plt.title('Shot First Time')\n",
    "plt.gca().invert_yaxis()  # To display the highest value on top\n",
    "plt.show()"
   ]
  },
  {
   "cell_type": "code",
   "execution_count": 34,
   "id": "9343087d",
   "metadata": {},
   "outputs": [
    {
     "data": {
      "image/png": "[encoded data removed]",
      "text/plain": [
       "<Figure size 720x432 with 1 Axes>"
      ]
     },
     "metadata": {
      "needs_background": "light"
     },
     "output_type": "display_data"
    }
   ],
   "source": [
    "shot_up_counts = df['under_pressure'].value_counts()\n",
    "\n",
    "plt.figure(figsize=(10, 6))\n",
    "shot_ft_counts.plot(kind='barh')\n",
    "plt.xlabel('Count')\n",
    "plt.title('Shot Under Pressure')\n",
    "plt.gca().invert_yaxis()  # To display the highest value on top\n",
    "plt.show()"
   ]
  },
  {
   "cell_type": "code",
   "execution_count": 35,
   "id": "bc285085",
   "metadata": {},
   "outputs": [
    {
     "data": {
      "image/png": "[encoded data removed]",
      "text/plain": [
       "<Figure size 720x432 with 1 Axes>"
      ]
     },
     "metadata": {
      "needs_background": "light"
     },
     "output_type": "display_data"
    }
   ],
   "source": [
    "goal_counts = df['goal'].value_counts()\n",
    "\n",
    "plt.figure(figsize=(10, 6))\n",
    "goal_counts.plot(kind='barh')\n",
    "plt.xlabel('Count')\n",
    "plt.title('Goal')\n",
    "plt.gca().invert_yaxis()  # To display the highest value on top\n",
    "plt.show()"
   ]
  },
  {
   "cell_type": "code",
   "execution_count": 36,
   "id": "98f35a41",
   "metadata": {},
   "outputs": [
    {
     "data": {
      "image/png": "[encoded data removed]",
      "text/plain": [
       "<Figure size 720x432 with 1 Axes>"
      ]
     },
     "metadata": {
      "needs_background": "light"
     },
     "output_type": "display_data"
    }
   ],
   "source": [
    "shot_type_counts = df['shot_type'].value_counts()\n",
    "\n",
    "plt.figure(figsize=(10, 6))\n",
    "shot_type_counts.plot(kind='barh')\n",
    "plt.xlabel('Count')\n",
    "plt.ylabel('Shot Type')\n",
    "plt.title('Shot Type Counts')\n",
    "plt.gca().invert_yaxis()  # To display the highest value on top\n",
    "plt.show()"
   ]
  },
  {
   "cell_type": "code",
   "execution_count": 37,
   "id": "1d290fb4",
   "metadata": {},
   "outputs": [
    {
     "data": {
      "image/png": "[encoded data removed]",
      "text/plain": [
       "<Figure size 720x432 with 1 Axes>"
      ]
     },
     "metadata": {
      "needs_background": "light"
     },
     "output_type": "display_data"
    }
   ],
   "source": [
    "shot_tech_counts = df['shot_technique'].value_counts()\n",
    "\n",
    "plt.figure(figsize=(10, 6))\n",
    "shot_tech_counts.plot(kind='barh')\n",
    "plt.xlabel('Count')\n",
    "plt.ylabel('Shot Technique')\n",
    "plt.title('Shot Technique Counts')\n",
    "plt.gca().invert_yaxis()  # To display the highest value on top\n",
    "plt.show()"
   ]
  },
  {
   "cell_type": "code",
   "execution_count": 38,
   "id": "6711e011",
   "metadata": {},
   "outputs": [
    {
     "data": {
      "image/png": "[encoded data removed]",
      "text/plain": [
       "<Figure size 720x432 with 1 Axes>"
      ]
     },
     "metadata": {
      "needs_background": "light"
     },
     "output_type": "display_data"
    }
   ],
   "source": [
    "shot_bp_counts = df['shot_body_part'].value_counts()\n",
    "\n",
    "plt.figure(figsize=(10, 6))\n",
    "shot_bp_counts.plot(kind='barh')\n",
    "plt.xlabel('Count')\n",
    "plt.ylabel('Shot Body Part')\n",
    "plt.title('Shot Body Part Counts')\n",
    "plt.gca().invert_yaxis()  # To display the highest value on top\n",
    "plt.show()"
   ]
  },
  {
   "cell_type": "code",
   "execution_count": 39,
   "id": "d555e042",
   "metadata": {},
   "outputs": [
    {
     "data": {
      "text/html": [
       "<div>\n",
       "<style scoped>\n",
       "    .dataframe tbody tr th:only-of-type {\n",
       "        vertical-align: middle;\n",
       "    }\n",
       "\n",
       "    .dataframe tbody tr th {\n",
       "        vertical-align: top;\n",
       "    }\n",
       "\n",
       "    .dataframe thead th {\n",
       "        text-align: right;\n",
       "    }\n",
       "</style>\n",
       "<table border=\"1\" class=\"dataframe\">\n",
       "  <thead>\n",
       "    <tr style=\"text-align: right;\">\n",
       "      <th></th>\n",
       "      <th>x</th>\n",
       "      <th>y</th>\n",
       "      <th>goalkeeper_dx</th>\n",
       "      <th>goalkeeper_dy</th>\n",
       "      <th>opposition_1_dx</th>\n",
       "      <th>opposition_1_dy</th>\n",
       "      <th>opposition_2_dx</th>\n",
       "      <th>opposition_2_dy</th>\n",
       "      <th>opposition_3_dx</th>\n",
       "      <th>opposition_3_dy</th>\n",
       "      <th>...</th>\n",
       "      <th>shot_one_on_one</th>\n",
       "      <th>shot_outcome</th>\n",
       "      <th>shot_technique</th>\n",
       "      <th>shot_statsbomb_xg</th>\n",
       "      <th>shot_type</th>\n",
       "      <th>under_pressure</th>\n",
       "      <th>prev_type</th>\n",
       "      <th>goal</th>\n",
       "      <th>prev_x</th>\n",
       "      <th>prev_y</th>\n",
       "    </tr>\n",
       "  </thead>\n",
       "  <tbody>\n",
       "    <tr>\n",
       "      <th>0</th>\n",
       "      <td>100.4</td>\n",
       "      <td>35.1</td>\n",
       "      <td>18.0</td>\n",
       "      <td>3.4</td>\n",
       "      <td>1.5</td>\n",
       "      <td>0.0</td>\n",
       "      <td>5.0</td>\n",
       "      <td>-3.6</td>\n",
       "      <td>6.8</td>\n",
       "      <td>3.0</td>\n",
       "      <td>...</td>\n",
       "      <td>False</td>\n",
       "      <td>Blocked</td>\n",
       "      <td>Normal</td>\n",
       "      <td>0.056644</td>\n",
       "      <td>Open Play</td>\n",
       "      <td>False</td>\n",
       "      <td>Ball Recovery</td>\n",
       "      <td>False</td>\n",
       "      <td>101.7</td>\n",
       "      <td>35.6</td>\n",
       "    </tr>\n",
       "    <tr>\n",
       "      <th>1</th>\n",
       "      <td>114.6</td>\n",
       "      <td>33.5</td>\n",
       "      <td>3.7</td>\n",
       "      <td>2.9</td>\n",
       "      <td>-0.3</td>\n",
       "      <td>1.1</td>\n",
       "      <td>-1.6</td>\n",
       "      <td>3.6</td>\n",
       "      <td>0.0</td>\n",
       "      <td>5.6</td>\n",
       "      <td>...</td>\n",
       "      <td>False</td>\n",
       "      <td>Saved</td>\n",
       "      <td>Normal</td>\n",
       "      <td>0.143381</td>\n",
       "      <td>Open Play</td>\n",
       "      <td>True</td>\n",
       "      <td>Pass</td>\n",
       "      <td>False</td>\n",
       "      <td>111.0</td>\n",
       "      <td>69.2</td>\n",
       "    </tr>\n",
       "    <tr>\n",
       "      <th>2</th>\n",
       "      <td>106.2</td>\n",
       "      <td>55.8</td>\n",
       "      <td>12.0</td>\n",
       "      <td>-12.9</td>\n",
       "      <td>2.7</td>\n",
       "      <td>3.9</td>\n",
       "      <td>2.9</td>\n",
       "      <td>-5.0</td>\n",
       "      <td>2.7</td>\n",
       "      <td>-9.6</td>\n",
       "      <td>...</td>\n",
       "      <td>False</td>\n",
       "      <td>Blocked</td>\n",
       "      <td>Normal</td>\n",
       "      <td>0.038188</td>\n",
       "      <td>Open Play</td>\n",
       "      <td>False</td>\n",
       "      <td>Ball Recovery</td>\n",
       "      <td>False</td>\n",
       "      <td>105.8</td>\n",
       "      <td>56.5</td>\n",
       "    </tr>\n",
       "    <tr>\n",
       "      <th>3</th>\n",
       "      <td>113.9</td>\n",
       "      <td>47.4</td>\n",
       "      <td>5.0</td>\n",
       "      <td>-5.5</td>\n",
       "      <td>0.2</td>\n",
       "      <td>-1.0</td>\n",
       "      <td>-0.7</td>\n",
       "      <td>-0.8</td>\n",
       "      <td>-0.9</td>\n",
       "      <td>-2.3</td>\n",
       "      <td>...</td>\n",
       "      <td>False</td>\n",
       "      <td>Blocked</td>\n",
       "      <td>Normal</td>\n",
       "      <td>0.052781</td>\n",
       "      <td>Open Play</td>\n",
       "      <td>False</td>\n",
       "      <td>Pass</td>\n",
       "      <td>False</td>\n",
       "      <td>120.0</td>\n",
       "      <td>0.1</td>\n",
       "    </tr>\n",
       "    <tr>\n",
       "      <th>4</th>\n",
       "      <td>89.2</td>\n",
       "      <td>42.5</td>\n",
       "      <td>27.7</td>\n",
       "      <td>-2.4</td>\n",
       "      <td>2.7</td>\n",
       "      <td>1.3</td>\n",
       "      <td>3.1</td>\n",
       "      <td>-1.9</td>\n",
       "      <td>1.9</td>\n",
       "      <td>9.0</td>\n",
       "      <td>...</td>\n",
       "      <td>False</td>\n",
       "      <td>Blocked</td>\n",
       "      <td>Normal</td>\n",
       "      <td>0.021272</td>\n",
       "      <td>Open Play</td>\n",
       "      <td>True</td>\n",
       "      <td>Carry</td>\n",
       "      <td>False</td>\n",
       "      <td>87.6</td>\n",
       "      <td>46.0</td>\n",
       "    </tr>\n",
       "    <tr>\n",
       "      <th>5</th>\n",
       "      <td>110.2</td>\n",
       "      <td>32.6</td>\n",
       "      <td>9.0</td>\n",
       "      <td>5.9</td>\n",
       "      <td>0.7</td>\n",
       "      <td>-0.1</td>\n",
       "      <td>0.5</td>\n",
       "      <td>1.3</td>\n",
       "      <td>0.8</td>\n",
       "      <td>-1.2</td>\n",
       "      <td>...</td>\n",
       "      <td>False</td>\n",
       "      <td>Wayward</td>\n",
       "      <td>Normal</td>\n",
       "      <td>0.029664</td>\n",
       "      <td>Open Play</td>\n",
       "      <td>True</td>\n",
       "      <td>Pass</td>\n",
       "      <td>False</td>\n",
       "      <td>120.0</td>\n",
       "      <td>80.0</td>\n",
       "    </tr>\n",
       "    <tr>\n",
       "      <th>6</th>\n",
       "      <td>105.4</td>\n",
       "      <td>45.1</td>\n",
       "      <td>12.0</td>\n",
       "      <td>-3.4</td>\n",
       "      <td>0.7</td>\n",
       "      <td>-0.4</td>\n",
       "      <td>-3.0</td>\n",
       "      <td>0.0</td>\n",
       "      <td>-0.6</td>\n",
       "      <td>-6.0</td>\n",
       "      <td>...</td>\n",
       "      <td>False</td>\n",
       "      <td>Blocked</td>\n",
       "      <td>Normal</td>\n",
       "      <td>0.082293</td>\n",
       "      <td>Open Play</td>\n",
       "      <td>True</td>\n",
       "      <td>Carry</td>\n",
       "      <td>False</td>\n",
       "      <td>105.6</td>\n",
       "      <td>48.9</td>\n",
       "    </tr>\n",
       "    <tr>\n",
       "      <th>7</th>\n",
       "      <td>101.5</td>\n",
       "      <td>47.5</td>\n",
       "      <td>16.3</td>\n",
       "      <td>-6.4</td>\n",
       "      <td>1.9</td>\n",
       "      <td>-0.4</td>\n",
       "      <td>2.0</td>\n",
       "      <td>-9.0</td>\n",
       "      <td>7.9</td>\n",
       "      <td>-5.6</td>\n",
       "      <td>...</td>\n",
       "      <td>False</td>\n",
       "      <td>Blocked</td>\n",
       "      <td>Normal</td>\n",
       "      <td>0.050110</td>\n",
       "      <td>Open Play</td>\n",
       "      <td>False</td>\n",
       "      <td>Pass</td>\n",
       "      <td>False</td>\n",
       "      <td>120.0</td>\n",
       "      <td>80.0</td>\n",
       "    </tr>\n",
       "    <tr>\n",
       "      <th>8</th>\n",
       "      <td>116.3</td>\n",
       "      <td>46.0</td>\n",
       "      <td>2.3</td>\n",
       "      <td>-3.3</td>\n",
       "      <td>-1.1</td>\n",
       "      <td>-0.2</td>\n",
       "      <td>-0.7</td>\n",
       "      <td>-1.2</td>\n",
       "      <td>0.2</td>\n",
       "      <td>-1.8</td>\n",
       "      <td>...</td>\n",
       "      <td>False</td>\n",
       "      <td>Saved</td>\n",
       "      <td>Normal</td>\n",
       "      <td>0.109917</td>\n",
       "      <td>Open Play</td>\n",
       "      <td>True</td>\n",
       "      <td>Pass</td>\n",
       "      <td>False</td>\n",
       "      <td>120.0</td>\n",
       "      <td>0.1</td>\n",
       "    </tr>\n",
       "    <tr>\n",
       "      <th>9</th>\n",
       "      <td>116.3</td>\n",
       "      <td>43.3</td>\n",
       "      <td>2.5</td>\n",
       "      <td>-0.7</td>\n",
       "      <td>0.6</td>\n",
       "      <td>1.8</td>\n",
       "      <td>-2.5</td>\n",
       "      <td>-1.4</td>\n",
       "      <td>0.1</td>\n",
       "      <td>-3.5</td>\n",
       "      <td>...</td>\n",
       "      <td>False</td>\n",
       "      <td>Saved</td>\n",
       "      <td>Volley</td>\n",
       "      <td>0.323069</td>\n",
       "      <td>Open Play</td>\n",
       "      <td>False</td>\n",
       "      <td>Ball Recovery</td>\n",
       "      <td>False</td>\n",
       "      <td>116.5</td>\n",
       "      <td>42.9</td>\n",
       "    </tr>\n",
       "    <tr>\n",
       "      <th>10</th>\n",
       "      <td>109.4</td>\n",
       "      <td>44.9</td>\n",
       "      <td>9.5</td>\n",
       "      <td>-3.4</td>\n",
       "      <td>-1.0</td>\n",
       "      <td>-1.6</td>\n",
       "      <td>3.4</td>\n",
       "      <td>-1.4</td>\n",
       "      <td>7.1</td>\n",
       "      <td>-1.1</td>\n",
       "      <td>...</td>\n",
       "      <td>False</td>\n",
       "      <td>Blocked</td>\n",
       "      <td>Normal</td>\n",
       "      <td>0.095424</td>\n",
       "      <td>Open Play</td>\n",
       "      <td>False</td>\n",
       "      <td>Carry</td>\n",
       "      <td>False</td>\n",
       "      <td>105.3</td>\n",
       "      <td>45.2</td>\n",
       "    </tr>\n",
       "    <tr>\n",
       "      <th>11</th>\n",
       "      <td>113.1</td>\n",
       "      <td>27.5</td>\n",
       "      <td>5.1</td>\n",
       "      <td>7.5</td>\n",
       "      <td>0.1</td>\n",
       "      <td>1.6</td>\n",
       "      <td>-0.1</td>\n",
       "      <td>8.7</td>\n",
       "      <td>-8.3</td>\n",
       "      <td>3.5</td>\n",
       "      <td>...</td>\n",
       "      <td>False</td>\n",
       "      <td>Post</td>\n",
       "      <td>Normal</td>\n",
       "      <td>0.074157</td>\n",
       "      <td>Open Play</td>\n",
       "      <td>True</td>\n",
       "      <td>Carry</td>\n",
       "      <td>False</td>\n",
       "      <td>108.2</td>\n",
       "      <td>21.8</td>\n",
       "    </tr>\n",
       "    <tr>\n",
       "      <th>12</th>\n",
       "      <td>110.1</td>\n",
       "      <td>41.6</td>\n",
       "      <td>8.9</td>\n",
       "      <td>-1.2</td>\n",
       "      <td>0.5</td>\n",
       "      <td>-1.3</td>\n",
       "      <td>3.7</td>\n",
       "      <td>-2.0</td>\n",
       "      <td>4.3</td>\n",
       "      <td>0.0</td>\n",
       "      <td>...</td>\n",
       "      <td>False</td>\n",
       "      <td>Blocked</td>\n",
       "      <td>Normal</td>\n",
       "      <td>0.067553</td>\n",
       "      <td>Open Play</td>\n",
       "      <td>False</td>\n",
       "      <td>Pass</td>\n",
       "      <td>False</td>\n",
       "      <td>120.0</td>\n",
       "      <td>80.0</td>\n",
       "    </tr>\n",
       "    <tr>\n",
       "      <th>13</th>\n",
       "      <td>115.9</td>\n",
       "      <td>40.1</td>\n",
       "      <td>1.8</td>\n",
       "      <td>-0.1</td>\n",
       "      <td>-1.6</td>\n",
       "      <td>0.5</td>\n",
       "      <td>-7.3</td>\n",
       "      <td>0.6</td>\n",
       "      <td>-10.4</td>\n",
       "      <td>-4.2</td>\n",
       "      <td>...</td>\n",
       "      <td>True</td>\n",
       "      <td>Saved</td>\n",
       "      <td>Normal</td>\n",
       "      <td>0.375736</td>\n",
       "      <td>Open Play</td>\n",
       "      <td>False</td>\n",
       "      <td>Pass</td>\n",
       "      <td>False</td>\n",
       "      <td>97.0</td>\n",
       "      <td>13.5</td>\n",
       "    </tr>\n",
       "    <tr>\n",
       "      <th>14</th>\n",
       "      <td>97.5</td>\n",
       "      <td>40.8</td>\n",
       "      <td>20.3</td>\n",
       "      <td>-0.4</td>\n",
       "      <td>1.3</td>\n",
       "      <td>0.9</td>\n",
       "      <td>-0.9</td>\n",
       "      <td>-2.4</td>\n",
       "      <td>-1.4</td>\n",
       "      <td>5.5</td>\n",
       "      <td>...</td>\n",
       "      <td>False</td>\n",
       "      <td>Saved</td>\n",
       "      <td>Normal</td>\n",
       "      <td>0.048408</td>\n",
       "      <td>Open Play</td>\n",
       "      <td>True</td>\n",
       "      <td>Carry</td>\n",
       "      <td>False</td>\n",
       "      <td>91.3</td>\n",
       "      <td>47.7</td>\n",
       "    </tr>\n",
       "    <tr>\n",
       "      <th>15</th>\n",
       "      <td>93.8</td>\n",
       "      <td>34.8</td>\n",
       "      <td>24.8</td>\n",
       "      <td>5.1</td>\n",
       "      <td>4.5</td>\n",
       "      <td>-0.2</td>\n",
       "      <td>7.0</td>\n",
       "      <td>4.1</td>\n",
       "      <td>13.9</td>\n",
       "      <td>2.4</td>\n",
       "      <td>...</td>\n",
       "      <td>False</td>\n",
       "      <td>Off T</td>\n",
       "      <td>Normal</td>\n",
       "      <td>0.024202</td>\n",
       "      <td>Open Play</td>\n",
       "      <td>True</td>\n",
       "      <td>Carry</td>\n",
       "      <td>False</td>\n",
       "      <td>93.7</td>\n",
       "      <td>35.1</td>\n",
       "    </tr>\n",
       "    <tr>\n",
       "      <th>16</th>\n",
       "      <td>93.0</td>\n",
       "      <td>39.1</td>\n",
       "      <td>25.6</td>\n",
       "      <td>0.8</td>\n",
       "      <td>5.2</td>\n",
       "      <td>-3.0</td>\n",
       "      <td>6.7</td>\n",
       "      <td>-5.9</td>\n",
       "      <td>-0.9</td>\n",
       "      <td>11.0</td>\n",
       "      <td>...</td>\n",
       "      <td>False</td>\n",
       "      <td>Goal</td>\n",
       "      <td>Normal</td>\n",
       "      <td>0.031473</td>\n",
       "      <td>Open Play</td>\n",
       "      <td>False</td>\n",
       "      <td>Pass</td>\n",
       "      <td>True</td>\n",
       "      <td>101.7</td>\n",
       "      <td>28.5</td>\n",
       "    </tr>\n",
       "    <tr>\n",
       "      <th>17</th>\n",
       "      <td>106.3</td>\n",
       "      <td>29.6</td>\n",
       "      <td>12.2</td>\n",
       "      <td>7.7</td>\n",
       "      <td>-1.1</td>\n",
       "      <td>2.5</td>\n",
       "      <td>2.0</td>\n",
       "      <td>-2.4</td>\n",
       "      <td>3.1</td>\n",
       "      <td>2.4</td>\n",
       "      <td>...</td>\n",
       "      <td>False</td>\n",
       "      <td>Blocked</td>\n",
       "      <td>Normal</td>\n",
       "      <td>0.076220</td>\n",
       "      <td>Open Play</td>\n",
       "      <td>False</td>\n",
       "      <td>Carry</td>\n",
       "      <td>False</td>\n",
       "      <td>106.1</td>\n",
       "      <td>25.3</td>\n",
       "    </tr>\n",
       "    <tr>\n",
       "      <th>18</th>\n",
       "      <td>93.5</td>\n",
       "      <td>40.1</td>\n",
       "      <td>23.2</td>\n",
       "      <td>-0.2</td>\n",
       "      <td>-0.9</td>\n",
       "      <td>1.2</td>\n",
       "      <td>-0.3</td>\n",
       "      <td>-2.8</td>\n",
       "      <td>7.4</td>\n",
       "      <td>3.5</td>\n",
       "      <td>...</td>\n",
       "      <td>False</td>\n",
       "      <td>Goal</td>\n",
       "      <td>Normal</td>\n",
       "      <td>0.042012</td>\n",
       "      <td>Open Play</td>\n",
       "      <td>False</td>\n",
       "      <td>Carry</td>\n",
       "      <td>True</td>\n",
       "      <td>88.4</td>\n",
       "      <td>38.3</td>\n",
       "    </tr>\n",
       "    <tr>\n",
       "      <th>19</th>\n",
       "      <td>112.5</td>\n",
       "      <td>29.6</td>\n",
       "      <td>3.0</td>\n",
       "      <td>5.1</td>\n",
       "      <td>-0.4</td>\n",
       "      <td>6.4</td>\n",
       "      <td>-10.0</td>\n",
       "      <td>-0.7</td>\n",
       "      <td>1.4</td>\n",
       "      <td>12.7</td>\n",
       "      <td>...</td>\n",
       "      <td>False</td>\n",
       "      <td>Saved</td>\n",
       "      <td>Half Volley</td>\n",
       "      <td>0.109270</td>\n",
       "      <td>Open Play</td>\n",
       "      <td>False</td>\n",
       "      <td>Pass</td>\n",
       "      <td>False</td>\n",
       "      <td>101.0</td>\n",
       "      <td>67.0</td>\n",
       "    </tr>\n",
       "    <tr>\n",
       "      <th>20</th>\n",
       "      <td>108.0</td>\n",
       "      <td>51.1</td>\n",
       "      <td>8.7</td>\n",
       "      <td>-6.7</td>\n",
       "      <td>1.3</td>\n",
       "      <td>-6.3</td>\n",
       "      <td>-5.6</td>\n",
       "      <td>-4.4</td>\n",
       "      <td>-9.4</td>\n",
       "      <td>-1.2</td>\n",
       "      <td>...</td>\n",
       "      <td>False</td>\n",
       "      <td>Saved</td>\n",
       "      <td>Normal</td>\n",
       "      <td>0.173471</td>\n",
       "      <td>Open Play</td>\n",
       "      <td>False</td>\n",
       "      <td>Carry</td>\n",
       "      <td>False</td>\n",
       "      <td>96.9</td>\n",
       "      <td>53.9</td>\n",
       "    </tr>\n",
       "    <tr>\n",
       "      <th>21</th>\n",
       "      <td>108.1</td>\n",
       "      <td>27.2</td>\n",
       "      <td>9.9</td>\n",
       "      <td>9.6</td>\n",
       "      <td>2.3</td>\n",
       "      <td>1.6</td>\n",
       "      <td>1.8</td>\n",
       "      <td>9.0</td>\n",
       "      <td>-2.2</td>\n",
       "      <td>10.7</td>\n",
       "      <td>...</td>\n",
       "      <td>False</td>\n",
       "      <td>Saved</td>\n",
       "      <td>Half Volley</td>\n",
       "      <td>0.047987</td>\n",
       "      <td>Open Play</td>\n",
       "      <td>False</td>\n",
       "      <td>Carry</td>\n",
       "      <td>False</td>\n",
       "      <td>105.2</td>\n",
       "      <td>27.7</td>\n",
       "    </tr>\n",
       "    <tr>\n",
       "      <th>22</th>\n",
       "      <td>98.2</td>\n",
       "      <td>42.1</td>\n",
       "      <td>17.8</td>\n",
       "      <td>-1.4</td>\n",
       "      <td>2.0</td>\n",
       "      <td>2.3</td>\n",
       "      <td>8.2</td>\n",
       "      <td>-2.7</td>\n",
       "      <td>8.9</td>\n",
       "      <td>2.4</td>\n",
       "      <td>...</td>\n",
       "      <td>False</td>\n",
       "      <td>Off T</td>\n",
       "      <td>Half Volley</td>\n",
       "      <td>0.034476</td>\n",
       "      <td>Open Play</td>\n",
       "      <td>False</td>\n",
       "      <td>Ball Recovery</td>\n",
       "      <td>False</td>\n",
       "      <td>99.0</td>\n",
       "      <td>41.4</td>\n",
       "    </tr>\n",
       "    <tr>\n",
       "      <th>23</th>\n",
       "      <td>101.6</td>\n",
       "      <td>43.3</td>\n",
       "      <td>15.8</td>\n",
       "      <td>-2.3</td>\n",
       "      <td>1.7</td>\n",
       "      <td>-1.5</td>\n",
       "      <td>1.7</td>\n",
       "      <td>5.5</td>\n",
       "      <td>7.0</td>\n",
       "      <td>-0.7</td>\n",
       "      <td>...</td>\n",
       "      <td>False</td>\n",
       "      <td>Off T</td>\n",
       "      <td>Normal</td>\n",
       "      <td>0.068442</td>\n",
       "      <td>Open Play</td>\n",
       "      <td>False</td>\n",
       "      <td>Pass</td>\n",
       "      <td>False</td>\n",
       "      <td>104.1</td>\n",
       "      <td>54.0</td>\n",
       "    </tr>\n",
       "    <tr>\n",
       "      <th>24</th>\n",
       "      <td>106.4</td>\n",
       "      <td>48.8</td>\n",
       "      <td>8.3</td>\n",
       "      <td>-4.8</td>\n",
       "      <td>-0.2</td>\n",
       "      <td>-1.3</td>\n",
       "      <td>0.4</td>\n",
       "      <td>-4.1</td>\n",
       "      <td>-6.1</td>\n",
       "      <td>-8.9</td>\n",
       "      <td>...</td>\n",
       "      <td>False</td>\n",
       "      <td>Goal</td>\n",
       "      <td>Normal</td>\n",
       "      <td>0.289998</td>\n",
       "      <td>Open Play</td>\n",
       "      <td>False</td>\n",
       "      <td>Carry</td>\n",
       "      <td>True</td>\n",
       "      <td>89.4</td>\n",
       "      <td>55.4</td>\n",
       "    </tr>\n",
       "    <tr>\n",
       "      <th>25</th>\n",
       "      <td>107.0</td>\n",
       "      <td>53.4</td>\n",
       "      <td>10.6</td>\n",
       "      <td>-10.7</td>\n",
       "      <td>-2.0</td>\n",
       "      <td>0.5</td>\n",
       "      <td>-3.4</td>\n",
       "      <td>-1.7</td>\n",
       "      <td>0.7</td>\n",
       "      <td>-6.0</td>\n",
       "      <td>...</td>\n",
       "      <td>False</td>\n",
       "      <td>Off T</td>\n",
       "      <td>Half Volley</td>\n",
       "      <td>0.084877</td>\n",
       "      <td>Open Play</td>\n",
       "      <td>False</td>\n",
       "      <td>Carry</td>\n",
       "      <td>False</td>\n",
       "      <td>93.8</td>\n",
       "      <td>54.4</td>\n",
       "    </tr>\n",
       "    <tr>\n",
       "      <th>26</th>\n",
       "      <td>96.5</td>\n",
       "      <td>39.9</td>\n",
       "      <td>21.3</td>\n",
       "      <td>-0.2</td>\n",
       "      <td>-0.5</td>\n",
       "      <td>6.3</td>\n",
       "      <td>5.6</td>\n",
       "      <td>3.2</td>\n",
       "      <td>8.6</td>\n",
       "      <td>-0.1</td>\n",
       "      <td>...</td>\n",
       "      <td>False</td>\n",
       "      <td>Blocked</td>\n",
       "      <td>Normal</td>\n",
       "      <td>0.042399</td>\n",
       "      <td>Open Play</td>\n",
       "      <td>False</td>\n",
       "      <td>Pass</td>\n",
       "      <td>False</td>\n",
       "      <td>101.8</td>\n",
       "      <td>46.8</td>\n",
       "    </tr>\n",
       "    <tr>\n",
       "      <th>27</th>\n",
       "      <td>88.2</td>\n",
       "      <td>45.5</td>\n",
       "      <td>29.4</td>\n",
       "      <td>-5.9</td>\n",
       "      <td>5.3</td>\n",
       "      <td>-1.2</td>\n",
       "      <td>5.1</td>\n",
       "      <td>3.1</td>\n",
       "      <td>-3.5</td>\n",
       "      <td>5.2</td>\n",
       "      <td>...</td>\n",
       "      <td>False</td>\n",
       "      <td>Blocked</td>\n",
       "      <td>Normal</td>\n",
       "      <td>0.017574</td>\n",
       "      <td>Open Play</td>\n",
       "      <td>False</td>\n",
       "      <td>Carry</td>\n",
       "      <td>False</td>\n",
       "      <td>88.7</td>\n",
       "      <td>47.2</td>\n",
       "    </tr>\n",
       "    <tr>\n",
       "      <th>28</th>\n",
       "      <td>98.5</td>\n",
       "      <td>49.2</td>\n",
       "      <td>20.3</td>\n",
       "      <td>-9.6</td>\n",
       "      <td>9.4</td>\n",
       "      <td>-2.1</td>\n",
       "      <td>9.3</td>\n",
       "      <td>-2.9</td>\n",
       "      <td>9.2</td>\n",
       "      <td>-3.7</td>\n",
       "      <td>...</td>\n",
       "      <td>False</td>\n",
       "      <td>Saved</td>\n",
       "      <td>Normal</td>\n",
       "      <td>0.075614</td>\n",
       "      <td>Free Kick</td>\n",
       "      <td>False</td>\n",
       "      <td>Foul Won</td>\n",
       "      <td>False</td>\n",
       "      <td>98.5</td>\n",
       "      <td>50.3</td>\n",
       "    </tr>\n",
       "    <tr>\n",
       "      <th>29</th>\n",
       "      <td>111.2</td>\n",
       "      <td>37.8</td>\n",
       "      <td>6.9</td>\n",
       "      <td>2.3</td>\n",
       "      <td>0.6</td>\n",
       "      <td>-0.5</td>\n",
       "      <td>0.6</td>\n",
       "      <td>4.8</td>\n",
       "      <td>0.2</td>\n",
       "      <td>-5.9</td>\n",
       "      <td>...</td>\n",
       "      <td>False</td>\n",
       "      <td>Saved</td>\n",
       "      <td>Normal</td>\n",
       "      <td>0.118389</td>\n",
       "      <td>Open Play</td>\n",
       "      <td>True</td>\n",
       "      <td>Pass</td>\n",
       "      <td>False</td>\n",
       "      <td>106.7</td>\n",
       "      <td>58.6</td>\n",
       "    </tr>\n",
       "  </tbody>\n",
       "</table>\n",
       "<p>30 rows × 44 columns</p>\n",
       "</div>"
      ],
      "text/plain": [
       "        x     y  goalkeeper_dx  goalkeeper_dy  opposition_1_dx  \\\n",
       "0   100.4  35.1           18.0            3.4              1.5   \n",
       "1   114.6  33.5            3.7            2.9             -0.3   \n",
       "2   106.2  55.8           12.0          -12.9              2.7   \n",
       "3   113.9  47.4            5.0           -5.5              0.2   \n",
       "4    89.2  42.5           27.7           -2.4              2.7   \n",
       "5   110.2  32.6            9.0            5.9              0.7   \n",
       "6   105.4  45.1           12.0           -3.4              0.7   \n",
       "7   101.5  47.5           16.3           -6.4              1.9   \n",
       "8   116.3  46.0            2.3           -3.3             -1.1   \n",
       "9   116.3  43.3            2.5           -0.7              0.6   \n",
       "10  109.4  44.9            9.5           -3.4             -1.0   \n",
       "11  113.1  27.5            5.1            7.5              0.1   \n",
       "12  110.1  41.6            8.9           -1.2              0.5   \n",
       "13  115.9  40.1            1.8           -0.1             -1.6   \n",
       "14   97.5  40.8           20.3           -0.4              1.3   \n",
       "15   93.8  34.8           24.8            5.1              4.5   \n",
       "16   93.0  39.1           25.6            0.8              5.2   \n",
       "17  106.3  29.6           12.2            7.7             -1.1   \n",
       "18   93.5  40.1           23.2           -0.2             -0.9   \n",
       "19  112.5  29.6            3.0            5.1             -0.4   \n",
       "20  108.0  51.1            8.7           -6.7              1.3   \n",
       "21  108.1  27.2            9.9            9.6              2.3   \n",
       "22   98.2  42.1           17.8           -1.4              2.0   \n",
       "23  101.6  43.3           15.8           -2.3              1.7   \n",
       "24  106.4  48.8            8.3           -4.8             -0.2   \n",
       "25  107.0  53.4           10.6          -10.7             -2.0   \n",
       "26   96.5  39.9           21.3           -0.2             -0.5   \n",
       "27   88.2  45.5           29.4           -5.9              5.3   \n",
       "28   98.5  49.2           20.3           -9.6              9.4   \n",
       "29  111.2  37.8            6.9            2.3              0.6   \n",
       "\n",
       "    opposition_1_dy  opposition_2_dx  opposition_2_dy  opposition_3_dx  \\\n",
       "0               0.0              5.0             -3.6              6.8   \n",
       "1               1.1             -1.6              3.6              0.0   \n",
       "2               3.9              2.9             -5.0              2.7   \n",
       "3              -1.0             -0.7             -0.8             -0.9   \n",
       "4               1.3              3.1             -1.9              1.9   \n",
       "5              -0.1              0.5              1.3              0.8   \n",
       "6              -0.4             -3.0              0.0             -0.6   \n",
       "7              -0.4              2.0             -9.0              7.9   \n",
       "8              -0.2             -0.7             -1.2              0.2   \n",
       "9               1.8             -2.5             -1.4              0.1   \n",
       "10             -1.6              3.4             -1.4              7.1   \n",
       "11              1.6             -0.1              8.7             -8.3   \n",
       "12             -1.3              3.7             -2.0              4.3   \n",
       "13              0.5             -7.3              0.6            -10.4   \n",
       "14              0.9             -0.9             -2.4             -1.4   \n",
       "15             -0.2              7.0              4.1             13.9   \n",
       "16             -3.0              6.7             -5.9             -0.9   \n",
       "17              2.5              2.0             -2.4              3.1   \n",
       "18              1.2             -0.3             -2.8              7.4   \n",
       "19              6.4            -10.0             -0.7              1.4   \n",
       "20             -6.3             -5.6             -4.4             -9.4   \n",
       "21              1.6              1.8              9.0             -2.2   \n",
       "22              2.3              8.2             -2.7              8.9   \n",
       "23             -1.5              1.7              5.5              7.0   \n",
       "24             -1.3              0.4             -4.1             -6.1   \n",
       "25              0.5             -3.4             -1.7              0.7   \n",
       "26              6.3              5.6              3.2              8.6   \n",
       "27             -1.2              5.1              3.1             -3.5   \n",
       "28             -2.1              9.3             -2.9              9.2   \n",
       "29             -0.5              0.6              4.8              0.2   \n",
       "\n",
       "    opposition_3_dy  ...  shot_one_on_one  shot_outcome  shot_technique  \\\n",
       "0               3.0  ...            False       Blocked          Normal   \n",
       "1               5.6  ...            False         Saved          Normal   \n",
       "2              -9.6  ...            False       Blocked          Normal   \n",
       "3              -2.3  ...            False       Blocked          Normal   \n",
       "4               9.0  ...            False       Blocked          Normal   \n",
       "5              -1.2  ...            False       Wayward          Normal   \n",
       "6              -6.0  ...            False       Blocked          Normal   \n",
       "7              -5.6  ...            False       Blocked          Normal   \n",
       "8              -1.8  ...            False         Saved          Normal   \n",
       "9              -3.5  ...            False         Saved          Volley   \n",
       "10             -1.1  ...            False       Blocked          Normal   \n",
       "11              3.5  ...            False          Post          Normal   \n",
       "12              0.0  ...            False       Blocked          Normal   \n",
       "13             -4.2  ...             True         Saved          Normal   \n",
       "14              5.5  ...            False         Saved          Normal   \n",
       "15              2.4  ...            False         Off T          Normal   \n",
       "16             11.0  ...            False          Goal          Normal   \n",
       "17              2.4  ...            False       Blocked          Normal   \n",
       "18              3.5  ...            False          Goal          Normal   \n",
       "19             12.7  ...            False         Saved     Half Volley   \n",
       "20             -1.2  ...            False         Saved          Normal   \n",
       "21             10.7  ...            False         Saved     Half Volley   \n",
       "22              2.4  ...            False         Off T     Half Volley   \n",
       "23             -0.7  ...            False         Off T          Normal   \n",
       "24             -8.9  ...            False          Goal          Normal   \n",
       "25             -6.0  ...            False         Off T     Half Volley   \n",
       "26             -0.1  ...            False       Blocked          Normal   \n",
       "27              5.2  ...            False       Blocked          Normal   \n",
       "28             -3.7  ...            False         Saved          Normal   \n",
       "29             -5.9  ...            False         Saved          Normal   \n",
       "\n",
       "    shot_statsbomb_xg  shot_type  under_pressure      prev_type   goal  \\\n",
       "0            0.056644  Open Play           False  Ball Recovery  False   \n",
       "1            0.143381  Open Play            True           Pass  False   \n",
       "2            0.038188  Open Play           False  Ball Recovery  False   \n",
       "3            0.052781  Open Play           False           Pass  False   \n",
       "4            0.021272  Open Play            True          Carry  False   \n",
       "5            0.029664  Open Play            True           Pass  False   \n",
       "6            0.082293  Open Play            True          Carry  False   \n",
       "7            0.050110  Open Play           False           Pass  False   \n",
       "8            0.109917  Open Play            True           Pass  False   \n",
       "9            0.323069  Open Play           False  Ball Recovery  False   \n",
       "10           0.095424  Open Play           False          Carry  False   \n",
       "11           0.074157  Open Play            True          Carry  False   \n",
       "12           0.067553  Open Play           False           Pass  False   \n",
       "13           0.375736  Open Play           False           Pass  False   \n",
       "14           0.048408  Open Play            True          Carry  False   \n",
       "15           0.024202  Open Play            True          Carry  False   \n",
       "16           0.031473  Open Play           False           Pass   True   \n",
       "17           0.076220  Open Play           False          Carry  False   \n",
       "18           0.042012  Open Play           False          Carry   True   \n",
       "19           0.109270  Open Play           False           Pass  False   \n",
       "20           0.173471  Open Play           False          Carry  False   \n",
       "21           0.047987  Open Play           False          Carry  False   \n",
       "22           0.034476  Open Play           False  Ball Recovery  False   \n",
       "23           0.068442  Open Play           False           Pass  False   \n",
       "24           0.289998  Open Play           False          Carry   True   \n",
       "25           0.084877  Open Play           False          Carry  False   \n",
       "26           0.042399  Open Play           False           Pass  False   \n",
       "27           0.017574  Open Play           False          Carry  False   \n",
       "28           0.075614  Free Kick           False       Foul Won  False   \n",
       "29           0.118389  Open Play            True           Pass  False   \n",
       "\n",
       "    prev_x  prev_y  \n",
       "0    101.7    35.6  \n",
       "1    111.0    69.2  \n",
       "2    105.8    56.5  \n",
       "3    120.0     0.1  \n",
       "4     87.6    46.0  \n",
       "5    120.0    80.0  \n",
       "6    105.6    48.9  \n",
       "7    120.0    80.0  \n",
       "8    120.0     0.1  \n",
       "9    116.5    42.9  \n",
       "10   105.3    45.2  \n",
       "11   108.2    21.8  \n",
       "12   120.0    80.0  \n",
       "13    97.0    13.5  \n",
       "14    91.3    47.7  \n",
       "15    93.7    35.1  \n",
       "16   101.7    28.5  \n",
       "17   106.1    25.3  \n",
       "18    88.4    38.3  \n",
       "19   101.0    67.0  \n",
       "20    96.9    53.9  \n",
       "21   105.2    27.7  \n",
       "22    99.0    41.4  \n",
       "23   104.1    54.0  \n",
       "24    89.4    55.4  \n",
       "25    93.8    54.4  \n",
       "26   101.8    46.8  \n",
       "27    88.7    47.2  \n",
       "28    98.5    50.3  \n",
       "29   106.7    58.6  \n",
       "\n",
       "[30 rows x 44 columns]"
      ]
     },
     "execution_count": 39,
     "metadata": {},
     "output_type": "execute_result"
    }
   ],
   "source": [
    "df.head(30)"
   ]
  },
  {
   "cell_type": "code",
   "execution_count": 40,
   "id": "79a9ef55",
   "metadata": {},
   "outputs": [
    {
     "name": "stdout",
     "output_type": "stream",
     "text": [
      "['x', 'y', 'goalkeeper_dx', 'goalkeeper_dy', 'opposition_1_dx', 'opposition_1_dy', 'opposition_2_dx', 'opposition_2_dy', 'opposition_3_dx', 'opposition_3_dy', 'opposition_4_dx', 'opposition_4_dy', 'teammate_1_dx', 'teammate_1_dy', 'teammate_2_dx', 'teammate_2_dy', 'goalkeeper_x', 'goalkeeper_y', 'opposition_1_x', 'opposition_1_y', 'opposition_2_x', 'opposition_2_y', 'opposition_3_x', 'opposition_3_y', 'opposition_4_x', 'opposition_4_y', 'teammate_1_x', 'teammate_1_y', 'teammate_2_x', 'teammate_2_y', 'play_pattern', 'shot_aerial_won', 'shot_body_part', 'shot_first_time', 'shot_one_on_one', 'shot_outcome', 'shot_technique', 'shot_statsbomb_xg', 'shot_type', 'under_pressure', 'prev_type', 'goal', 'prev_x', 'prev_y']\n"
     ]
    }
   ],
   "source": [
    "print(list(df.columns))"
   ]
  },
  {
   "cell_type": "code",
   "execution_count": 41,
   "id": "9b3db2d4",
   "metadata": {},
   "outputs": [],
   "source": [
    "df.drop(['shot_outcome', 'shot_technique', 'shot_body_part'], axis = 1, inplace = True)"
   ]
  },
  {
   "cell_type": "code",
   "execution_count": 42,
   "id": "d3169acd",
   "metadata": {},
   "outputs": [
    {
     "data": {
      "text/html": [
       "<div>\n",
       "<style scoped>\n",
       "    .dataframe tbody tr th:only-of-type {\n",
       "        vertical-align: middle;\n",
       "    }\n",
       "\n",
       "    .dataframe tbody tr th {\n",
       "        vertical-align: top;\n",
       "    }\n",
       "\n",
       "    .dataframe thead th {\n",
       "        text-align: right;\n",
       "    }\n",
       "</style>\n",
       "<table border=\"1\" class=\"dataframe\">\n",
       "  <thead>\n",
       "    <tr style=\"text-align: right;\">\n",
       "      <th></th>\n",
       "      <th>x</th>\n",
       "      <th>y</th>\n",
       "      <th>goalkeeper_dx</th>\n",
       "      <th>goalkeeper_dy</th>\n",
       "      <th>opposition_1_dx</th>\n",
       "      <th>opposition_1_dy</th>\n",
       "      <th>opposition_2_dx</th>\n",
       "      <th>opposition_2_dy</th>\n",
       "      <th>opposition_3_dx</th>\n",
       "      <th>opposition_3_dy</th>\n",
       "      <th>...</th>\n",
       "      <th>shot_aerial_won</th>\n",
       "      <th>shot_first_time</th>\n",
       "      <th>shot_one_on_one</th>\n",
       "      <th>shot_statsbomb_xg</th>\n",
       "      <th>shot_type</th>\n",
       "      <th>under_pressure</th>\n",
       "      <th>prev_type</th>\n",
       "      <th>goal</th>\n",
       "      <th>prev_x</th>\n",
       "      <th>prev_y</th>\n",
       "    </tr>\n",
       "  </thead>\n",
       "  <tbody>\n",
       "    <tr>\n",
       "      <th>0</th>\n",
       "      <td>100.4</td>\n",
       "      <td>35.1</td>\n",
       "      <td>18.0</td>\n",
       "      <td>3.4</td>\n",
       "      <td>1.5</td>\n",
       "      <td>0.0</td>\n",
       "      <td>5.0</td>\n",
       "      <td>-3.6</td>\n",
       "      <td>6.8</td>\n",
       "      <td>3.0</td>\n",
       "      <td>...</td>\n",
       "      <td>False</td>\n",
       "      <td>True</td>\n",
       "      <td>False</td>\n",
       "      <td>0.056644</td>\n",
       "      <td>Open Play</td>\n",
       "      <td>False</td>\n",
       "      <td>Ball Recovery</td>\n",
       "      <td>False</td>\n",
       "      <td>101.7</td>\n",
       "      <td>35.6</td>\n",
       "    </tr>\n",
       "    <tr>\n",
       "      <th>1</th>\n",
       "      <td>114.6</td>\n",
       "      <td>33.5</td>\n",
       "      <td>3.7</td>\n",
       "      <td>2.9</td>\n",
       "      <td>-0.3</td>\n",
       "      <td>1.1</td>\n",
       "      <td>-1.6</td>\n",
       "      <td>3.6</td>\n",
       "      <td>0.0</td>\n",
       "      <td>5.6</td>\n",
       "      <td>...</td>\n",
       "      <td>False</td>\n",
       "      <td>True</td>\n",
       "      <td>False</td>\n",
       "      <td>0.143381</td>\n",
       "      <td>Open Play</td>\n",
       "      <td>True</td>\n",
       "      <td>Pass</td>\n",
       "      <td>False</td>\n",
       "      <td>111.0</td>\n",
       "      <td>69.2</td>\n",
       "    </tr>\n",
       "    <tr>\n",
       "      <th>2</th>\n",
       "      <td>106.2</td>\n",
       "      <td>55.8</td>\n",
       "      <td>12.0</td>\n",
       "      <td>-12.9</td>\n",
       "      <td>2.7</td>\n",
       "      <td>3.9</td>\n",
       "      <td>2.9</td>\n",
       "      <td>-5.0</td>\n",
       "      <td>2.7</td>\n",
       "      <td>-9.6</td>\n",
       "      <td>...</td>\n",
       "      <td>False</td>\n",
       "      <td>True</td>\n",
       "      <td>False</td>\n",
       "      <td>0.038188</td>\n",
       "      <td>Open Play</td>\n",
       "      <td>False</td>\n",
       "      <td>Ball Recovery</td>\n",
       "      <td>False</td>\n",
       "      <td>105.8</td>\n",
       "      <td>56.5</td>\n",
       "    </tr>\n",
       "    <tr>\n",
       "      <th>3</th>\n",
       "      <td>113.9</td>\n",
       "      <td>47.4</td>\n",
       "      <td>5.0</td>\n",
       "      <td>-5.5</td>\n",
       "      <td>0.2</td>\n",
       "      <td>-1.0</td>\n",
       "      <td>-0.7</td>\n",
       "      <td>-0.8</td>\n",
       "      <td>-0.9</td>\n",
       "      <td>-2.3</td>\n",
       "      <td>...</td>\n",
       "      <td>False</td>\n",
       "      <td>False</td>\n",
       "      <td>False</td>\n",
       "      <td>0.052781</td>\n",
       "      <td>Open Play</td>\n",
       "      <td>False</td>\n",
       "      <td>Pass</td>\n",
       "      <td>False</td>\n",
       "      <td>120.0</td>\n",
       "      <td>0.1</td>\n",
       "    </tr>\n",
       "    <tr>\n",
       "      <th>4</th>\n",
       "      <td>89.2</td>\n",
       "      <td>42.5</td>\n",
       "      <td>27.7</td>\n",
       "      <td>-2.4</td>\n",
       "      <td>2.7</td>\n",
       "      <td>1.3</td>\n",
       "      <td>3.1</td>\n",
       "      <td>-1.9</td>\n",
       "      <td>1.9</td>\n",
       "      <td>9.0</td>\n",
       "      <td>...</td>\n",
       "      <td>False</td>\n",
       "      <td>False</td>\n",
       "      <td>False</td>\n",
       "      <td>0.021272</td>\n",
       "      <td>Open Play</td>\n",
       "      <td>True</td>\n",
       "      <td>Carry</td>\n",
       "      <td>False</td>\n",
       "      <td>87.6</td>\n",
       "      <td>46.0</td>\n",
       "    </tr>\n",
       "  </tbody>\n",
       "</table>\n",
       "<p>5 rows × 41 columns</p>\n",
       "</div>"
      ],
      "text/plain": [
       "       x     y  goalkeeper_dx  goalkeeper_dy  opposition_1_dx  \\\n",
       "0  100.4  35.1           18.0            3.4              1.5   \n",
       "1  114.6  33.5            3.7            2.9             -0.3   \n",
       "2  106.2  55.8           12.0          -12.9              2.7   \n",
       "3  113.9  47.4            5.0           -5.5              0.2   \n",
       "4   89.2  42.5           27.7           -2.4              2.7   \n",
       "\n",
       "   opposition_1_dy  opposition_2_dx  opposition_2_dy  opposition_3_dx  \\\n",
       "0              0.0              5.0             -3.6              6.8   \n",
       "1              1.1             -1.6              3.6              0.0   \n",
       "2              3.9              2.9             -5.0              2.7   \n",
       "3             -1.0             -0.7             -0.8             -0.9   \n",
       "4              1.3              3.1             -1.9              1.9   \n",
       "\n",
       "   opposition_3_dy  ...  shot_aerial_won  shot_first_time  shot_one_on_one  \\\n",
       "0              3.0  ...            False             True            False   \n",
       "1              5.6  ...            False             True            False   \n",
       "2             -9.6  ...            False             True            False   \n",
       "3             -2.3  ...            False            False            False   \n",
       "4              9.0  ...            False            False            False   \n",
       "\n",
       "   shot_statsbomb_xg  shot_type  under_pressure      prev_type   goal  prev_x  \\\n",
       "0           0.056644  Open Play           False  Ball Recovery  False   101.7   \n",
       "1           0.143381  Open Play            True           Pass  False   111.0   \n",
       "2           0.038188  Open Play           False  Ball Recovery  False   105.8   \n",
       "3           0.052781  Open Play           False           Pass  False   120.0   \n",
       "4           0.021272  Open Play            True          Carry  False    87.6   \n",
       "\n",
       "   prev_y  \n",
       "0    35.6  \n",
       "1    69.2  \n",
       "2    56.5  \n",
       "3     0.1  \n",
       "4    46.0  \n",
       "\n",
       "[5 rows x 41 columns]"
      ]
     },
     "execution_count": 42,
     "metadata": {},
     "output_type": "execute_result"
    }
   ],
   "source": [
    "df.head()"
   ]
  },
  {
   "cell_type": "code",
   "execution_count": 43,
   "id": "1593a728",
   "metadata": {},
   "outputs": [
    {
     "name": "stdout",
     "output_type": "stream",
     "text": [
      "['x', 'y', 'goalkeeper_dx', 'goalkeeper_dy', 'opposition_1_dx', 'opposition_1_dy', 'opposition_2_dx', 'opposition_2_dy', 'opposition_3_dx', 'opposition_3_dy', 'opposition_4_dx', 'opposition_4_dy', 'teammate_1_dx', 'teammate_1_dy', 'teammate_2_dx', 'teammate_2_dy', 'goalkeeper_x', 'goalkeeper_y', 'opposition_1_x', 'opposition_1_y', 'opposition_2_x', 'opposition_2_y', 'opposition_3_x', 'opposition_3_y', 'opposition_4_x', 'opposition_4_y', 'teammate_1_x', 'teammate_1_y', 'teammate_2_x', 'teammate_2_y', 'play_pattern', 'shot_aerial_won', 'shot_first_time', 'shot_one_on_one', 'shot_statsbomb_xg', 'shot_type', 'under_pressure', 'prev_type', 'goal', 'prev_x', 'prev_y']\n"
     ]
    }
   ],
   "source": [
    "print(list(df.columns))"
   ]
  },
  {
   "cell_type": "code",
   "execution_count": null,
   "id": "64960c14",
   "metadata": {},
   "outputs": [],
   "source": []
  }
 ],
 "metadata": {
  "kernelspec": {
   "display_name": "Python 3 (ipykernel)",
   "language": "python",
   "name": "python3"
  },
  "language_info": {
   "codemirror_mode": {
    "name": "ipython",
    "version": 3
   },
   "file_extension": ".py",
   "mimetype": "text/x-python",
   "name": "python",
   "nbconvert_exporter": "python",
   "pygments_lexer": "ipython3",
   "version": "3.9.12"
  }
 },
 "nbformat": 4,
 "nbformat_minor": 5
}
